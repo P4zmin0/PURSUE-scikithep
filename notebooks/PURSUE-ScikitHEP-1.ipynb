{
 "cells": [
  {
   "cell_type": "markdown",
   "metadata": {},
   "source": [
    "# PURSUE Scikit-HEP Session Lecture Notebook (Part 1)\n",
    "\n",
    "## Introduction\n",
    "\n",
    "- Uproot is a Scikit-HEP package which offers tools to read and write `.root` files without the use of ROOT.\n",
    "- In this session, we will be learning about this useful package by going through the [HSF Uproot Tutorial](https://masonproffitt.github.io/uproot-tutorial/).\n",
    "- This notebook is meant to summarize the material found in the afformentioned tutorial, while expanding on some points not emphasized there, and can be used as a quick reference or to follow along during the session. \n",
    "- For a more complete description of Uproot and other Scikit-HEP packages, please visit the [Scikit-HEP Project Website](https://scikit-hep.org/)\n",
    "\n",
    "## ROOT?\n",
    "- Root is a specialized data format designed to store large amounts of data in a structured way.\n",
    "- They can contain a variety of data types such as histograms.\n",
    "- One of the key features of a root file is the TTree structure in which each entry represents an event and each branch various pieces of data associated with said event.\n",
    "\n",
    "## Arrays\n",
    "- When running numerical computations involving a collection of numbers, the usual object of choise is the numpy array. With these we can perform fast computations (Numpy is a compiled library)."
   ]
  },
  {
   "cell_type": "code",
   "execution_count": null,
   "metadata": {},
   "outputs": [],
   "source": [
    "import numpy as np\n",
    "\n",
    "arr1 = np.array(\n",
    "    [1, 2, 3, 4, 5]\n",
    ")\n",
    "arr2 = np.array(\n",
    "    [5, 4, 3, 2, 1]\n",
    ")"
   ]
  },
  {
   "cell_type": "markdown",
   "metadata": {},
   "source": [
    "- Numpy allows us to do operations between arrays instead of element by element. This type of array-wise operations are called vectorized operations and they are fundamental to a programming paradigm known as array-oriented programming. This is in constrast to the typical approach of iterating over a whole collection of objects, which can be rather slow procedure, as illustrated below.\n",
    "\n",
    "<img src=\"./assets/vectorized.png\" alt=\"vectorized\" style=\"width: 400px\"/>"
   ]
  },
  {
   "cell_type": "code",
   "execution_count": null,
   "metadata": {},
   "outputs": [],
   "source": [
    "%%timeit\n",
    "# Slow way\n",
    "sumrslt = []\n",
    "for i, j in zip(arr1, arr2):\n",
    "    sumrslt.append(i + j)\n",
    "sumarr = np.array(sumrslt)"
   ]
  },
  {
   "cell_type": "code",
   "execution_count": null,
   "metadata": {},
   "outputs": [],
   "source": [
    "%%timeit\n",
    "# Faster way!\n",
    "rsltarr = arr1 + arr2 # It also looks much nicer!"
   ]
  },
  {
   "cell_type": "markdown",
   "metadata": {},
   "source": [
    "- Vectorized operations such as the ones allowed by numpy are not only faster, but, as you can see, have a more elegant syntax.\n",
    "- Numpy allows us to perform a slew of vectorized operations."
   ]
  },
  {
   "cell_type": "code",
   "execution_count": null,
   "metadata": {},
   "outputs": [],
   "source": [
    "# Mathematical operations\n",
    "print(\"{} - {} = {}\".format(arr1, arr2, arr1 - arr2))\n",
    "print(\"{} / {} = {}\".format(arr1, arr2, arr1 / arr2))\n",
    "print(\"{} * {} = {}\".format(arr1, arr2, arr1 * arr2))\n",
    "print(\"{} % {} = {}\".format(arr1, arr2, arr1 % arr2))\n",
    "print()\n",
    "\n",
    "# Comparison operations\n",
    "eq_comp = arr1 == arr2\n",
    "print(\"{} == {} = {}\".format(arr1, arr2, eq_comp))\n",
    "\n",
    "ineq_comp = arr1 != arr2\n",
    "print(\"{} != {} = {}\".format(arr1, arr2, ineq_comp))\n",
    "\n",
    "print(\"{} < {} = {}\".format(arr1, arr2, arr1 < arr2))\n",
    "print()\n",
    "\n",
    "# Logical operations\n",
    "print(\"NOT: ~{} = {}\".format(eq_comp, ~eq_comp))\n",
    "print(\"AND: {} & {} = {}\".format(ineq_comp, eq_comp, ineq_comp & eq_comp))\n",
    "print(\"OR: {} | {} = {}\".format(eq_comp, ineq_comp, eq_comp | ineq_comp))\n"
   ]
  },
  {
   "cell_type": "markdown",
   "metadata": {},
   "source": [
    "- Furthermore, with numpy, we can select construct higher dimensional object such as matrices."
   ]
  },
  {
   "cell_type": "code",
   "execution_count": null,
   "metadata": {},
   "outputs": [],
   "source": [
    "# Convolution example with numpy\n",
    "from scipy.signal import convolve2d\n",
    "gradient_kernel = np.array([\n",
    "                            [-1, 0, 1],\n",
    "                            [-1, 0, 1],\n",
    "                            [-1, 0, 1]\n",
    "                        ])\n",
    "picture = np.array([\n",
    "            [0, 255, 0],\n",
    "            [0, 255, 0],\n",
    "            [0, 255, 0]\n",
    "        ])\n",
    "\n",
    "# Performing a convolution on our \"image\"\n",
    "convolve2d(picture, gradient_kernel, mode=\"same\")"
   ]
  },
  {
   "cell_type": "markdown",
   "metadata": {},
   "source": [
    "## Jagged Arrays\n",
    "- One of the limitations of numpy array is that if we construct, say, a matrix, it must have a homogeneous shape.\n"
   ]
  },
  {
   "cell_type": "code",
   "execution_count": null,
   "metadata": {},
   "outputs": [],
   "source": [
    "np.array([\n",
    "    [1, 2, 3],\n",
    "    [1],\n",
    "    [5, 7, 8, 100]\n",
    "])"
   ]
  },
  {
   "cell_type": "markdown",
   "metadata": {},
   "source": [
    "- In HEP, you might events with different number of the same particle. This means that the length of object collections (e.g. $p_T$ of detected muons) is not constant. In order to deal with this type of data, we use jagged arrays through the Awakrd library, which builds upon numpy by giving us the ability to have numpy-like arrays, but which can have a non-homogenous shape.\n",
    "- Awkward Array is a library for using nested, variable-sized data with a Numpy-like syntax."
   ]
  },
  {
   "cell_type": "code",
   "execution_count": null,
   "metadata": {},
   "outputs": [],
   "source": [
    "import awkward as ak\n",
    "\n",
    "awk_arr = ak.Array([\n",
    "    [1, 2, 3],\n",
    "    [1],\n",
    "    [5, 7, 8, 100]\n",
    "])\n",
    "\n",
    "type(awk_arr)"
   ]
  },
  {
   "cell_type": "code",
   "execution_count": null,
   "metadata": {},
   "outputs": [],
   "source": [
    "ak.sum(awk_arr, axis=1)"
   ]
  },
  {
   "cell_type": "markdown",
   "metadata": {},
   "source": [
    "- In order to see truly understand how powerful this new type of array is, we will use some real physics data from CMS. In roder to do this, we will need to introduce one of the fundamental tools of the Sciki-HEP tool-kit: Uproot."
   ]
  },
  {
   "cell_type": "markdown",
   "metadata": {},
   "source": [
    "## Opening ROOT files with Uproot\n",
    "- We will be using a `root` file which contains real CMS data of pp collisions in 2012.\n",
    "- Root files contents are structured in a way reminiscent of a small filesystem with directories and nested directories.\n",
    "- <>\n",
    "\n",
    "<img src=\"./assets/roottree.png\" alt=\"roottree\" style=\"width: 400px\"/>"
   ]
  },
  {
   "cell_type": "code",
   "execution_count": null,
   "metadata": {},
   "outputs": [],
   "source": [
    "# Run this cell to import Uproot\n",
    "import uproot"
   ]
  },
  {
   "cell_type": "code",
   "execution_count": null,
   "metadata": {},
   "outputs": [],
   "source": [
    "# Run this cell to download the data if you haven't already.\n",
    "! wget https://github.com/masonproffitt/uproot-tutorial-notebooks/raw/master/uproot-tutorial-file.root ."
   ]
  },
  {
   "cell_type": "markdown",
   "metadata": {},
   "source": [
    "- To open the file, we can the use the `open` function provided by Uproot."
   ]
  },
  {
   "cell_type": "code",
   "execution_count": null,
   "metadata": {},
   "outputs": [],
   "source": [
    "# Opening the root file\n",
    "file = uproot.open(\"./uproot-tutorial-file.root\")\n",
    "file"
   ]
  },
  {
   "cell_type": "markdown",
   "metadata": {},
   "source": [
    "- We can check the name of the contents at the upper-most level of this \"directory\" structure.\n",
    "- Notice that the syntax used here is similar to that of dictionaries."
   ]
  },
  {
   "cell_type": "code",
   "execution_count": null,
   "metadata": {},
   "outputs": [],
   "source": [
    "# Checking the name of the contents\n",
    "file.keys()"
   ]
  },
  {
   "cell_type": "code",
   "execution_count": null,
   "metadata": {},
   "outputs": [],
   "source": [
    "# We can also check the type of each of the contents\n",
    "file.classnames()"
   ]
  },
  {
   "cell_type": "markdown",
   "metadata": {},
   "source": [
    "- A TTree is is a class which stores data in a way similar to Pandas DataFrames. Each \"column\" is a TBranch and it can contain objects of any C++ type.\n",
    "- In the cell below, notice that each the `Events` TTree has 6 branches."
   ]
  },
  {
   "cell_type": "code",
   "execution_count": null,
   "metadata": {},
   "outputs": [],
   "source": [
    "# We can access the TTree like this\n",
    "file[\"Events\"]"
   ]
  },
  {
   "cell_type": "markdown",
   "metadata": {},
   "source": [
    "- We can access the contents of this TTree the following way. When we do, we can see the name of each branch, which describes what content each branch has. "
   ]
  },
  {
   "cell_type": "code",
   "execution_count": null,
   "metadata": {},
   "outputs": [],
   "source": [
    "tree = file[\"Events\"]\n",
    "tree.keys()"
   ]
  },
  {
   "cell_type": "markdown",
   "metadata": {},
   "source": [
    "- Note that you can access branches in a tree more directly with the following syntax. You can use whatever syntax you prefer."
   ]
  },
  {
   "cell_type": "code",
   "execution_count": null,
   "metadata": {},
   "outputs": [],
   "source": [
    "file[\"Events;1/nMuon\"]"
   ]
  },
  {
   "cell_type": "markdown",
   "metadata": {},
   "source": [
    "- To emphasize the point about TTrees having a similar structure to Pandas DataFrames, notice that the data can be transformed into a DataFrame relatively easily."
   ]
  },
  {
   "cell_type": "code",
   "execution_count": null,
   "metadata": {},
   "outputs": [],
   "source": [
    "import pandas as pd\n",
    "\n",
    "tree.arrays(library=\"pd\", entry_stop=10)"
   ]
  },
  {
   "cell_type": "markdown",
   "metadata": {},
   "source": [
    "- Of course, this is not a good way to handle this sort of data. This is just for pedagogical purposes.\n",
    "- In order to convert the data in one of the branches to an array, we would do something like the following."
   ]
  },
  {
   "cell_type": "code",
   "execution_count": null,
   "metadata": {},
   "outputs": [],
   "source": [
    "branches = tree.arrays()\n",
    "branches"
   ]
  },
  {
   "cell_type": "markdown",
   "metadata": {},
   "source": [
    "- Notice that the data type of `branches` is an Akward array (we have come full circle!). As you can deduce, one of the fundamental dependencies of Uproot is Awkward, given that most of the data that we deal with in HEP can be organized into jagged arrays"
   ]
  },
  {
   "cell_type": "code",
   "execution_count": null,
   "metadata": {},
   "outputs": [],
   "source": [
    "type(branches)"
   ]
  },
  {
   "cell_type": "markdown",
   "metadata": {},
   "source": [
    "- Moreover, if we take a look at the type of the elements of this jagged array, we can find a new type of class provided by Awkward: Record. Records are the Awkward equivalent of Python dictionaries."
   ]
  },
  {
   "cell_type": "code",
   "execution_count": null,
   "metadata": {},
   "outputs": [],
   "source": [
    "type(branches[0])"
   ]
  },
  {
   "cell_type": "code",
   "execution_count": null,
   "metadata": {},
   "outputs": [],
   "source": [
    "branches[0]"
   ]
  },
  {
   "cell_type": "markdown",
   "metadata": {},
   "source": [
    "- When we have Records inside Awkward Arrays, we can do something pretty useful. Suppose we want the muon $p_T$ for all of the events. Instead of doing this."
   ]
  },
  {
   "cell_type": "code",
   "execution_count": null,
   "metadata": {},
   "outputs": [],
   "source": [
    "#%%timeit\n",
    "# Uncomment the magic above and you will see that this way is slower!\n",
    "branches[:][\"Muon_eta\"]"
   ]
  },
  {
   "cell_type": "markdown",
   "metadata": {},
   "source": [
    "- We can instead do this."
   ]
  },
  {
   "cell_type": "code",
   "execution_count": null,
   "metadata": {},
   "outputs": [],
   "source": [
    "#%%timeit\n",
    "branches[\"Muon_pt\"]"
   ]
  },
  {
   "cell_type": "markdown",
   "metadata": {},
   "source": [
    "- Or suppose I want the number of muons in each event. Again, we can just do this..."
   ]
  },
  {
   "cell_type": "code",
   "execution_count": null,
   "metadata": {},
   "outputs": [],
   "source": [
    "# Array\n",
    "branches[\"nMuon\"]"
   ]
  },
  {
   "cell_type": "markdown",
   "metadata": {},
   "source": [
    "- This set-up where we have Records inside an Awkward array, allows much flexibility when it comes to selection and slicing. Here are some examples"
   ]
  },
  {
   "cell_type": "code",
   "execution_count": null,
   "metadata": {},
   "outputs": [],
   "source": [
    "# Pt of muons in the 0'th event\n",
    "print(branches[[\"Muon_pt\", \"nMuon\"]][0])\n",
    "# All information of event 0\n",
    "print(branches[0])\n",
    "# For events from 10 to 14, the number of muons.\n",
    "print(branches[10:15][\"nMuon\"])"
   ]
  },
  {
   "cell_type": "markdown",
   "metadata": {},
   "source": [
    "**Exercise**: \n",
    "Print out the pt and charge of the muons from events 100 to 115."
   ]
  },
  {
   "cell_type": "code",
   "execution_count": null,
   "metadata": {},
   "outputs": [],
   "source": [
    "# Put your answer here\n",
    "branches[100:116][[\"Muon_pt\", \"Muon_charge\"]]"
   ]
  },
  {
   "cell_type": "markdown",
   "metadata": {},
   "source": [
    "- In addition, you can peform the same vectorized operations we saw we could do with numpy arrays, but with Awkward arrays."
   ]
  },
  {
   "cell_type": "code",
   "execution_count": null,
   "metadata": {},
   "outputs": [],
   "source": [
    "muon_pt = branches[\"Muon_pt\"][:15]\n",
    "muon_pt"
   ]
  },
  {
   "cell_type": "code",
   "execution_count": null,
   "metadata": {},
   "outputs": [],
   "source": [
    "muon_pt > 2"
   ]
  },
  {
   "cell_type": "markdown",
   "metadata": {},
   "source": [
    "- Before moving on, one last thing: if we would rather use a library different than Awkward when reading from a ROOT file, we could also use Numpy or Pandas."
   ]
  },
  {
   "cell_type": "code",
   "execution_count": null,
   "metadata": {},
   "outputs": [],
   "source": [
    "tree[\"nMuon\"].array(library=\"np\", entry_stop=10)"
   ]
  },
  {
   "cell_type": "code",
   "execution_count": null,
   "metadata": {},
   "outputs": [],
   "source": [
    "tree.arrays(library=\"np\", entry_stop=2)"
   ]
  },
  {
   "cell_type": "code",
   "execution_count": null,
   "metadata": {},
   "outputs": [],
   "source": [
    "tree.arrays(library=\"pd\", entry_stop=10)"
   ]
  },
  {
   "cell_type": "markdown",
   "metadata": {},
   "source": [
    "## Histograms\n",
    "- Histograms are one of the most important tools in HEP. They describe the frequency distributions of a set of data points by dividing the entire range of values into a series of bins and counting how many data points fall into each interval.\n",
    "- In a ROOT file, we might also find objects of type `TH1F`, which are 1D histograms. We can access these object with Uproot, but we won't be able to display the histogram with just Uproot, which is why we can use some useful methods, most of which start with \"to\"."
   ]
  },
  {
   "cell_type": "code",
   "execution_count": null,
   "metadata": {},
   "outputs": [],
   "source": [
    "import matplotlib.pyplot as plt\n",
    "import skhep_testdata\n",
    "\n",
    "file_name = skhep_testdata.data_path(\"uproot-Event.root\")\n",
    "file = uproot.open(file_name)\n",
    "file.keys()"
   ]
  },
  {
   "cell_type": "code",
   "execution_count": null,
   "metadata": {},
   "outputs": [],
   "source": [
    "h = file[\"hstat\"]\n",
    "h"
   ]
  },
  {
   "cell_type": "code",
   "execution_count": null,
   "metadata": {},
   "outputs": [],
   "source": [
    "h.to_hist().plot()"
   ]
  },
  {
   "cell_type": "code",
   "execution_count": null,
   "metadata": {},
   "outputs": [],
   "source": [
    "h.to_numpy()"
   ]
  },
  {
   "cell_type": "markdown",
   "metadata": {},
   "source": [
    "- We can also use Matplotlib, to plot the data we read from root files."
   ]
  },
  {
   "cell_type": "code",
   "execution_count": null,
   "metadata": {},
   "outputs": [],
   "source": [
    "# Doc: https://matplotlib.org/stable/api/_as_gen/matplotlib.pyplot.hist.html\n",
    "plt.hist(\n",
    "    branches[\"nMuon\"], \n",
    "    bins=40\n",
    "    # bins=np.arange(50)\n",
    ")\n",
    "\n",
    "plt.title(\"Number of Muons per Event\")\n",
    "plt.xlim((0, 10))\n",
    "plt.ylabel(\"Count\")\n",
    "plt.xlabel(\"Number of muons\")\n",
    "plt.show()"
   ]
  },
  {
   "cell_type": "code",
   "execution_count": null,
   "metadata": {},
   "outputs": [],
   "source": [
    "# Note that if the data has already been binned and counted, it might be better to use plt.stairs\n",
    "# Doc: https://matplotlib.org/stable/api/_as_gen/matplotlib.pyplot.stairs.html\n",
    "counts, bins = np.histogram(\n",
    "    branches[\"nMuon\"], \n",
    "    bins=40,\n",
    "    # bins=np.arange(40)\n",
    ")\n",
    "print(counts)\n",
    "print(bins)\n",
    "\n",
    "plt.stairs(\n",
    "    counts, \n",
    "    bins,\n",
    "    color=\"red\"\n",
    ")\n",
    "plt.title(\"Number of Muons per Event\")\n",
    "plt.xlim((0, 10))\n",
    "plt.ylabel(\"Count\")\n",
    "plt.xlabel(\"Number of muons\")\n",
    "plt.show()\n",
    "plt.show()"
   ]
  },
  {
   "cell_type": "markdown",
   "metadata": {},
   "source": [
    "- If the histograms we are trying to make is in the form of a jagged array, we would need to flatten it first."
   ]
  },
  {
   "cell_type": "code",
   "execution_count": null,
   "metadata": {},
   "outputs": [],
   "source": [
    "ak.flatten(branches[\"Muon_pt\"])\n"
   ]
  },
  {
   "cell_type": "code",
   "execution_count": null,
   "metadata": {},
   "outputs": [],
   "source": [
    "plt.hist(\n",
    "    ak.flatten(branches[\"Muon_pt\"]),\n",
    "    bins=100,\n",
    "    range=(0,100)\n",
    ")\n",
    "plt.xlabel('Muon $p_{\\mathrm{T}}$ [GeV]')\n",
    "plt.ylabel('Number of muons / 1 GeV')\n",
    "# Sometimes it might be a bit more insightful to use logarithmic axis.\n",
    "# plt.yscale('log')\n",
    "plt.show()"
   ]
  },
  {
   "cell_type": "markdown",
   "metadata": {},
   "source": [
    "- One issue with logarithmic scales if applied to the x-axis is that the bin size is not made logarithmic as well. This produces weird looking plots like the one shown below."
   ]
  },
  {
   "cell_type": "code",
   "execution_count": null,
   "metadata": {},
   "outputs": [],
   "source": [
    "plt.hist(\n",
    "    ak.flatten(branches[\"Muon_pt\"]),\n",
    "    bins=100,\n",
    "    range=(0,100)\n",
    ")\n",
    "plt.xlabel('Muon $p_{\\mathrm{T}}$ [GeV]')\n",
    "plt.ylabel('Number of muons / 1 GeV')\n",
    "# Sometimes it might be a bit more insightful to use logarithmic axis.\n",
    "# plt.yscale('log')\n",
    "plt.xscale(\"log\")\n",
    "plt.show()"
   ]
  },
  {
   "cell_type": "markdown",
   "metadata": {},
   "source": [
    "- To fix this, we can use `np.logpsace`."
   ]
  },
  {
   "cell_type": "code",
   "execution_count": null,
   "metadata": {},
   "outputs": [],
   "source": [
    "plt.hist(\n",
    "    ak.flatten(branches['Muon_pt']),\n",
    "    bins=np.logspace(\n",
    "        np.log10(1), \n",
    "        np.log10(100), \n",
    "        100\n",
    "    ) # plt will use the values of this array to set the bin edges\n",
    ")\n",
    "plt.xlabel('Muon $p_{\\mathrm{T}}$ [GeV]')\n",
    "plt.xscale('log')\n",
    "plt.ylabel('Number of muons')\n",
    "plt.show()"
   ]
  },
  {
   "cell_type": "markdown",
   "metadata": {},
   "source": [
    "**Exercise:** Make a histogram of the eta of all muons."
   ]
  },
  {
   "cell_type": "code",
   "execution_count": null,
   "metadata": {},
   "outputs": [],
   "source": [
    "# Place your answer here\n",
    "plt.hist(ak.flatten(branches['Muon_eta']), bins=50, range=(-2.5, 2.5))\n",
    "plt.xlabel('Muon $\\eta$')\n",
    "plt.ylabel('Number of muons')\n",
    "plt.xlim(-3, 3)\n",
    "plt.show()"
   ]
  },
  {
   "cell_type": "markdown",
   "metadata": {},
   "source": [
    "## Columnar Analysis\n",
    "- Suppose you had an array of numbers and you wanted to check if each one of them is greater than, for instance, 25. If you are new to programming, you might think that the best way to do this might be by looping over each one of the elements. That works, but it is slow!\n",
    "- Packages like numpy (on which awkward and a whole host of packages) allows us to do *vectorized* operations.\n",
    "\n",
    "\n",
    "- Doing this this way is better in two primary ways:\n",
    "  - Higher performance\n",
    "  - Cleaner syntax\n",
    "- Here's an example. Suppose we want to see how many events have above 2 muons. We can do it two ways. You be the judge of which one is better for tackling this problem!"
   ]
  },
  {
   "cell_type": "code",
   "execution_count": null,
   "metadata": {},
   "outputs": [],
   "source": [
    "%%timeit\n",
    "# Approach 1: Loops\n",
    "GT2Muons = []\n",
    "for nMuonsInEvent in branches[\"nMuon\"]:\n",
    "    GT2Muons.append(nMuonsInEvent > 0)\n",
    "\n",
    "nEventsGT2Muons = sum(GT2Muons)\n",
    "# print(\"Total number of events: \", len(GT2Muons))\n",
    "# print(\"Total number of events with nMuon > 2: \", nEventsGT2Muons)"
   ]
  },
  {
   "cell_type": "code",
   "execution_count": null,
   "metadata": {},
   "outputs": [],
   "source": [
    "%%timeit\n",
    "# Approach 2: Vectorized operations\n",
    "GT2Muons = branches[\"nMuon\"] > 2\n",
    "sum(GT2Muons)"
   ]
  },
  {
   "cell_type": "markdown",
   "metadata": {},
   "source": [
    "- As you can see, the syntax is more straight-forward (it could've been done in a single line!), and the code is run *much* faster!\n",
    "- A vectorized approach also allows you to easily filter out events which don't meet some criteria defined by a \"mask\" (i.e. array of booleans). For instance, suppose we want to plot the $\\eta$ for all muons which belong to an event which has only 1 muon."
   ]
  },
  {
   "cell_type": "code",
   "execution_count": null,
   "metadata": {},
   "outputs": [],
   "source": [
    "single_muon_mask = branches[\"nMuon\"] == 1\n",
    "single_muon_mask"
   ]
  },
  {
   "cell_type": "code",
   "execution_count": null,
   "metadata": {},
   "outputs": [],
   "source": [
    "muonEta_single = branches[\"Muon_eta\"][single_muon_mask]\n",
    "muonEta_single"
   ]
  },
  {
   "cell_type": "code",
   "execution_count": null,
   "metadata": {},
   "outputs": [],
   "source": [
    "plt.hist(\n",
    "    ak.flatten(muonEta_single),\n",
    "    bins=100\n",
    ")\n",
    "plt.xlabel('Muon $\\eta$')\n",
    "plt.ylabel('Number of muons')\n",
    "plt.xlim(-3, 3)\n",
    "plt.show()"
   ]
  },
  {
   "cell_type": "markdown",
   "metadata": {},
   "source": [
    "- As another example, suppose we want to plot all of the muons which have $|\\eta| < 2$. This can be done by applying the `abs` function to the array as a whole as follows."
   ]
  },
  {
   "cell_type": "code",
   "execution_count": null,
   "metadata": {},
   "outputs": [],
   "source": [
    "eta_mask = abs(branches[\"Muon_eta\"]) < 2\n",
    "eta_mask"
   ]
  },
  {
   "cell_type": "code",
   "execution_count": null,
   "metadata": {},
   "outputs": [],
   "source": [
    "# Applying this mask and plotting eta\n",
    "plt.hist(\n",
    "    ak.flatten(branches[\"Muon_eta\"][eta_mask]),\n",
    "    bins=100\n",
    ")\n",
    "plt.xlabel('Muon $\\eta$')\n",
    "plt.ylabel('Number of muons')\n",
    "plt.xlim(-3, 3)\n",
    "plt.show()"
   ]
  },
  {
   "cell_type": "markdown",
   "metadata": {},
   "source": [
    "- You can see that we have effectively sliced our plot such that there are zero entries beyond $|\\eta| < 2$.\n",
    "- Another operation which is very useful is the NOT operation. This can be applied to a whole mask all at once using the `~` operator. For instance:"
   ]
  },
  {
   "cell_type": "code",
   "execution_count": null,
   "metadata": {},
   "outputs": [],
   "source": [
    "single_muon_mask"
   ]
  },
  {
   "cell_type": "code",
   "execution_count": null,
   "metadata": {},
   "outputs": [],
   "source": [
    "~single_muon_mask"
   ]
  },
  {
   "cell_type": "markdown",
   "metadata": {},
   "source": [
    "- You can also do the AND or OR operation between to masks. Keep in mind that the dimensions need to be the same in order for this to be possible, as the AND/OR operator requires two inputs."
   ]
  },
  {
   "cell_type": "code",
   "execution_count": null,
   "metadata": {},
   "outputs": [],
   "source": [
    "# AND\n",
    "single_muon_mask & eta_mask"
   ]
  },
  {
   "cell_type": "code",
   "execution_count": null,
   "metadata": {},
   "outputs": [],
   "source": [
    "# OR\n",
    "single_muon_mask | eta_mask"
   ]
  },
  {
   "cell_type": "markdown",
   "metadata": {},
   "source": [
    "- Keep in mind that you need to be careful about performing a series of these operations, as the order of operations might be different from what you might expect. Just keep in mind that `&` and `|` has a higher precedence than `==`. Or, you can just make things unambigous for yourself by using parenthesis around the operations which you want to be performed first. E.g."
   ]
  },
  {
   "cell_type": "code",
   "execution_count": null,
   "metadata": {},
   "outputs": [],
   "source": [
    "# Intended\n",
    "(False == False) & False"
   ]
  },
  {
   "cell_type": "code",
   "execution_count": null,
   "metadata": {},
   "outputs": [],
   "source": [
    "# Not what we intended\n",
    "False == False & False"
   ]
  },
  {
   "cell_type": "markdown",
   "metadata": {},
   "source": [
    "- Now that we know how to apply masks, lets combine this with our knowledge of histograms and compare plots when we apply differing selections."
   ]
  },
  {
   "cell_type": "code",
   "execution_count": null,
   "metadata": {},
   "outputs": [],
   "source": [
    "plt.hist(\n",
    "    [ak.flatten(branches['Muon_pt'][single_muon_mask & eta_mask]),\n",
    "    ak.flatten(branches['Muon_pt'][single_muon_mask & ~eta_mask])],\n",
    "    bins=25, \n",
    "    range=(0, 50),\n",
    "    histtype=\"step\",\n",
    "    density=True # Option which normalizes the integral of each historgram\n",
    ")\n",
    "plt.xlabel('Muon $p_{\\mathrm{T}}$ [GeV]')\n",
    "plt.ylabel('Number of single muons / 2 GeV')\n",
    "plt.show()"
   ]
  },
  {
   "cell_type": "markdown",
   "metadata": {},
   "source": [
    "## Getting Physics-Related Information\n",
    "- Let's use what we have learned so far to get some physical insight into our data.\n",
    "- Many mesons and bosons have a di-muon decay channel. For instance, $Z$ boson can decay into two muons.\n",
    "\n",
    "![etadimuon](./assets/Zdimuon.png)\n",
    "\n",
    "- In order for a process like this to happen, certain conditions must be met such as charge conservation and 4-momentum conservation. If we wanted to measure the mass of those particles which produce two muons, we could use this to our advantage by demanding that all events under consideration have, for instance, at least two muons and that those two muons have opposite charges.\n",
    "- Let's start simple: we want events with exactly two muons"
   ]
  },
  {
   "cell_type": "code",
   "execution_count": null,
   "metadata": {},
   "outputs": [],
   "source": [
    "two_muon_mask = branches[\"nMuon\"] == 2"
   ]
  },
  {
   "cell_type": "markdown",
   "metadata": {},
   "source": [
    "- Now we want to work with the 4-momentum of the muons. For this, we can use a handy library called vector which allows us to construct 4-vectors and perform operations between them, as well as compute other derived quantities from them easily."
   ]
  },
  {
   "cell_type": "code",
   "execution_count": null,
   "metadata": {},
   "outputs": [],
   "source": [
    "import vector"
   ]
  },
  {
   "cell_type": "code",
   "execution_count": null,
   "metadata": {},
   "outputs": [],
   "source": [
    "muon_p4 = vector.zip(\n",
    "    {\n",
    "        \"pt\": branches[\"Muon_pt\"],\n",
    "        \"eta\": branches[\"Muon_eta\"],\n",
    "        \"phi\": branches[\"Muon_phi\"],\n",
    "        \"mass\": branches[\"Muon_mass\"]\n",
    "    }\n",
    ")"
   ]
  },
  {
   "cell_type": "code",
   "execution_count": null,
   "metadata": {},
   "outputs": [],
   "source": [
    "muon_p4"
   ]
  },
  {
   "cell_type": "markdown",
   "metadata": {},
   "source": [
    "- We now apply the mask to keep only those events with exactly two muons."
   ]
  },
  {
   "cell_type": "code",
   "execution_count": null,
   "metadata": {},
   "outputs": [],
   "source": [
    "two_muons_p4 = muon_p4[two_muon_mask]\n",
    "two_muons_p4"
   ]
  },
  {
   "cell_type": "code",
   "execution_count": null,
   "metadata": {},
   "outputs": [],
   "source": [
    "type(muon_p4)"
   ]
  },
  {
   "cell_type": "markdown",
   "metadata": {},
   "source": [
    "- Note that from this type of object we can obtain quantities that are derived from the inputs we gave it as we were declaring it."
   ]
  },
  {
   "cell_type": "code",
   "execution_count": null,
   "metadata": {},
   "outputs": [],
   "source": [
    "two_muons_p4.pt"
   ]
  },
  {
   "cell_type": "code",
   "execution_count": null,
   "metadata": {},
   "outputs": [],
   "source": [
    "two_muons_p4.E"
   ]
  },
  {
   "cell_type": "markdown",
   "metadata": {},
   "source": [
    "- Because what we want is to find the invariant mass of the two muons in each event, we sum the 4-momentum of both muons in each event together. "
   ]
  },
  {
   "cell_type": "code",
   "execution_count": null,
   "metadata": {},
   "outputs": [],
   "source": [
    "sum_p4 = two_muons_p4[:, 0] + two_muons_p4[:, 1]\n",
    "sum_p4 # Also a 4-momentum object"
   ]
  },
  {
   "cell_type": "markdown",
   "metadata": {},
   "source": [
    "- This gives us the invariant mass already."
   ]
  },
  {
   "cell_type": "code",
   "execution_count": null,
   "metadata": {},
   "outputs": [],
   "source": [
    "sum_p4.mass"
   ]
  },
  {
   "cell_type": "markdown",
   "metadata": {},
   "source": [
    "- But not so fast... How do we know that charge conservation is not being violated? For that, we can create a mask from `branch[\"Muon_charge]` which ensure the charges are opposite between the two muons!"
   ]
  },
  {
   "cell_type": "code",
   "execution_count": null,
   "metadata": {},
   "outputs": [],
   "source": [
    "# We get only those events with two muons\n",
    "two_muon_events_q = branches[\"Muon_charge\"][two_muon_mask]\n",
    "\n",
    "# We make sure those two muons have opposite charges\n",
    "opposite_sign_muons_mask = ((two_muon_events_q[:, 0] + two_muon_events_q[:, 1]) == 0)\n",
    "opposite_sign_muons_mask"
   ]
  },
  {
   "cell_type": "code",
   "execution_count": null,
   "metadata": {},
   "outputs": [],
   "source": [
    "dimuon_p4 = sum_p4[opposite_sign_muons_mask]"
   ]
  },
  {
   "cell_type": "markdown",
   "metadata": {},
   "source": [
    "- We finally have our invariant masses (from dimuon events with opposite charges)! We could have done more to clean up the events, but this is already enough to get some interesting results. Lets plot a histogram of the invariant masses and see what we get!"
   ]
  },
  {
   "cell_type": "code",
   "execution_count": null,
   "metadata": {},
   "outputs": [],
   "source": [
    "plt.hist(\n",
    "    dimuon_p4.mass, \n",
    "    histtype=\"step\", \n",
    "    bins=np.logspace(\n",
    "        np.log10(0.1), \n",
    "        np.log10(1000), \n",
    "        200)\n",
    "    )\n",
    "plt.xscale(\"log\")\n",
    "plt.yscale(\"log\")\n",
    "plt.xlabel('Dimuon invariant mass [GeV]')\n",
    "plt.ylabel('Number of dimuon events')\n",
    "plt.show()"
   ]
  },
  {
   "cell_type": "markdown",
   "metadata": {},
   "source": [
    "- In this plot, we can see some see peaks corresponding to particles which decay into two muons.\n",
    "\n",
    "![dimuonspectrumplt](./assets/dimuonspectrumplt.png)"
   ]
  },
  {
   "cell_type": "markdown",
   "metadata": {},
   "source": [
    "We can compute $\\Delta R$ which is a measure of the distance of two particles in the detector's pseudoriapidity-azimuthal angle space. It is defined as\n",
    "$$\n",
    "    \\Delta R = \\sqrt{(\\Delta \\eta)^2 + (\\Delta \\phi)^2}\n",
    "$$\n",
    "If two muons are produced by the same physical process, we would expect them to be close to each other and thus have a small $\\Delta R$. However, if we plot the $\\Delta R$ of the muons we obtained, we get the following."
   ]
  },
  {
   "cell_type": "code",
   "execution_count": null,
   "metadata": {},
   "outputs": [],
   "source": [
    "two_muons_p4_oppq = two_muons_p4[opposite_sign_muons_mask]\n",
    "two_muons_p4_oppq[0]"
   ]
  },
  {
   "cell_type": "code",
   "execution_count": null,
   "metadata": {},
   "outputs": [],
   "source": [
    "plt.hist(\n",
    "    two_muons_p4_oppq[:,0].deltaR(two_muons_p4_oppq[:,1]),\n",
    "    bins=100,\n",
    "    histtype=\"step\"\n",
    ")\n",
    "plt.show()"
   ]
  },
  {
   "cell_type": "markdown",
   "metadata": {},
   "source": [
    "From this plot, it is evident that our data is clearly contaminated. \n",
    "\n",
    "**Exercise:** Clean up the data even further and plot the mass spectrum once again."
   ]
  },
  {
   "cell_type": "code",
   "execution_count": null,
   "metadata": {},
   "outputs": [],
   "source": [
    "# Your answer here\n",
    "close_muons = two_muons_p4_oppq[:,0].deltaR(two_muons_p4_oppq[:,1]) < 0.5\n",
    "dimuon_p4_close = dimuon_p4[close_muons]\n",
    "\n",
    "plt.hist(\n",
    "    dimuon_p4_close.mass, \n",
    "    histtype=\"step\", \n",
    "    bins=np.logspace(\n",
    "        np.log10(0.1), \n",
    "        np.log10(1000), \n",
    "        200)\n",
    "    )\n",
    "plt.xscale(\"log\")\n",
    "plt.yscale(\"log\")\n",
    "plt.xlabel('Dimuon invariant mass [GeV]')\n",
    "plt.ylabel('Number of dimuon events')\n",
    "plt.show()"
   ]
  },
  {
   "cell_type": "markdown",
   "metadata": {},
   "source": [
    "Answer: \n",
    "1. Can you still see each of the peaks? If no, why do you think that is? \n",
    "2. Did we suppress any of the peaks that were visible before? What does that tell us about that corresponding particle's dimuon decay channel?\n",
    "3. In the $\\Delta R$ plot we saw a second peak at ~3. What do you think this peak corresponds to? Plot the mass spectrum histogram again, but considering only dimuons that are far away."
   ]
  },
  {
   "cell_type": "code",
   "execution_count": null,
   "metadata": {},
   "outputs": [],
   "source": [
    "# Your answer here\n",
    "close_muons = two_muons_p4_oppq[:,0].deltaR(two_muons_p4_oppq[:,1]) > 1.5\n",
    "dimuon_p4_far = dimuon_p4[close_muons]\n",
    "\n",
    "plt.hist(\n",
    "    dimuon_p4_far.mass, \n",
    "    histtype=\"step\", \n",
    "    bins=np.logspace(\n",
    "        np.log10(0.1), \n",
    "        np.log10(1000), \n",
    "        200)\n",
    "    )\n",
    "plt.xscale(\"log\")\n",
    "plt.yscale(\"log\")\n",
    "plt.xlabel('Dimuon invariant mass [GeV]')\n",
    "plt.ylabel('Number of dimuon events')\n",
    "plt.show()"
   ]
  },
  {
   "cell_type": "markdown",
   "metadata": {},
   "source": []
  },
  {
   "cell_type": "code",
   "execution_count": null,
   "metadata": {},
   "outputs": [],
   "source": []
  }
 ],
 "metadata": {
  "kernelspec": {
   "display_name": "Python 3 (ipykernel)",
   "language": "python",
   "name": "python3"
  },
  "language_info": {
   "codemirror_mode": {
    "name": "ipython",
    "version": 3
   },
   "file_extension": ".py",
   "mimetype": "text/x-python",
   "name": "python",
   "nbconvert_exporter": "python",
   "pygments_lexer": "ipython3",
   "version": "3.9.18"
  }
 },
 "nbformat": 4,
 "nbformat_minor": 4
}
