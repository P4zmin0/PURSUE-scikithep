{
 "cells": [
  {
   "cell_type": "markdown",
   "metadata": {},
   "source": [
    "# PURSUE Scikit-HEP Session Lecture Notebook (Part 2)\n",
    "\n",
    "## Introduction\n",
    "- In this notebook we will have a look at other useful libraries offered by Scikit-HEP, as well as taking a dive into more advanced topics beyond I/O with root files, slicing, filtering, and plotting data.\n",
    "\n",
    "## Combinatronics\n",
    "- Suppose you are are searching for a particular signal: two muons with opposite charge. There's one issue though: there might be events with any number of positive and negative muons. How do you know that any combination of them correspond to the final state of the particular signal you are looking for. This is not immediately known!\n",
    "- A power technique which is enabled by the tools offered in Scikit-HEP is to use combinatronics: consider every possible combination of oppositely charged muons and select those which meet some other selection criteria consistent with your signal of interest!\n",
    "- Let's see what combinatronics is about. Suppose you have the following two arrays."
   ]
  },
  {
   "cell_type": "code",
   "execution_count": null,
   "metadata": {},
   "outputs": [],
   "source": [
    "import awkward as ak"
   ]
  },
  {
   "cell_type": "code",
   "execution_count": null,
   "metadata": {},
   "outputs": [],
   "source": [
    "numbers = ak.Array([[1, 2, 3], [], [5, 7], [11]])\n",
    "letters = ak.Array([[\"a\", \"b\"], [\"c\"], [\"d\"], [\"e\", \"f\"]])"
   ]
  },
  {
   "cell_type": "markdown",
   "metadata": {},
   "source": [
    "- The function `ak.cartesian` gives us the cartesian product of two arrays. If we use it to take the cartesian product of `numbers` and `letters`, we are given an array of the cartesian product of each of the sub-arrays of one of the arrays with the corresponding sub-array in the other."
   ]
  },
  {
   "cell_type": "code",
   "execution_count": null,
   "metadata": {},
   "outputs": [],
   "source": [
    "pairs = ak.cartesian((numbers, letters))\n",
    "pairs"
   ]
  },
  {
   "cell_type": "markdown",
   "metadata": {},
   "source": [
    "- We can access the objects inside this Awkard array multiple ways. For example, we can slice using strings"
   ]
  },
  {
   "cell_type": "code",
   "execution_count": null,
   "metadata": {},
   "outputs": [],
   "source": [
    "pairs[\"0\"]"
   ]
  },
  {
   "cell_type": "code",
   "execution_count": null,
   "metadata": {},
   "outputs": [],
   "source": [
    "pairs[\"1\"]"
   ]
  },
  {
   "cell_type": "markdown",
   "metadata": {},
   "source": [
    "- But we can also use the function `ak.unzip` to extract every field into its own separate array."
   ]
  },
  {
   "cell_type": "code",
   "execution_count": null,
   "metadata": {},
   "outputs": [],
   "source": [
    "left, right = ak.unzip(pairs)\n",
    "print(left)\n",
    "print(right)"
   ]
  },
  {
   "cell_type": "markdown",
   "metadata": {},
   "source": [
    "- In addition to `ak.cartesian`, another combinatorial function Awkward provides is `ak.combinations`. This function allows us to find all pairs withing a single collection, without repetition. For instance."
   ]
  },
  {
   "cell_type": "code",
   "execution_count": null,
   "metadata": {},
   "outputs": [],
   "source": [
    "# As a reminder\n",
    "print(numbers)"
   ]
  },
  {
   "cell_type": "code",
   "execution_count": null,
   "metadata": {},
   "outputs": [],
   "source": [
    "# The number of items to choose in each list: 2 chooses unique pairs, 3 chooses unique triples, etc.\n",
    "comb_size = 2\n",
    "\n",
    "pairs = ak.combinations(numbers, comb_size)\n",
    "pairs"
   ]
  },
  {
   "cell_type": "markdown",
   "metadata": {},
   "source": [
    "- With every possible pair of elements, we can unzip this array similar to how we did the previous one we had."
   ]
  },
  {
   "cell_type": "code",
   "execution_count": null,
   "metadata": {},
   "outputs": [],
   "source": [
    "left, right = ak.unzip(pairs)\n",
    "print(left)\n",
    "print(right)"
   ]
  },
  {
   "cell_type": "markdown",
   "metadata": {},
   "source": [
    "- Notice that they line up. We can therefore perform operations between these two arrays as such."
   ]
  },
  {
   "cell_type": "code",
   "execution_count": null,
   "metadata": {},
   "outputs": [],
   "source": [
    "left * right"
   ]
  },
  {
   "cell_type": "markdown",
   "metadata": {},
   "source": [
    "## Dimuons Revisited\n",
    "- In the last notebook, we were working with dimuon data and were able to effetively plot the dimuon mass spectrum. However, in the process, we made a pretty unreasonable cut: we only considered events which had two muons. This means we were not taking into account data which might be relevant for our search!\n",
    "- Now, we are going to perform the same mini-analysis, but we are going to take a more nuanced approach using combinatronics. First we load in the data."
   ]
  },
  {
   "cell_type": "code",
   "execution_count": null,
   "metadata": {},
   "outputs": [],
   "source": [
    "import uproot\n",
    "import awkward as ak\n",
    "import vector\n",
    "\n",
    "file = uproot.open(\n",
    "    # \"root://eospublic.cern.ch//eos/opendata/cms/derived-data/AOD2NanoAODOutreachTool/Run2012BC_DoubleMuParked_Muons.root\"\n",
    "    \"uproot-tutorial-file.root\"\n",
    ")\n",
    "tree = file[\"Events\"]\n",
    "\n",
    "arrays = tree.arrays(filter_name=\"/Muon_(pt|eta|phi|charge)/\", entry_stop=10000)\n",
    "\n",
    "muons = ak.zip(\n",
    "    {\n",
    "        \"pt\": arrays[\"Muon_pt\"],\n",
    "        \"eta\": arrays[\"Muon_eta\"],\n",
    "        \"phi\": arrays[\"Muon_phi\"],\n",
    "        \"charge\": arrays[\"Muon_charge\"],\n",
    "    }\n",
    ")\n",
    "\n",
    "arrays.type"
   ]
  },
  {
   "cell_type": "markdown",
   "metadata": {},
   "source": [
    "- Lets get all possible combinations of 2 muons for each event and then separate each into a separate array that we can add in order to get the mass."
   ]
  },
  {
   "cell_type": "code",
   "execution_count": null,
   "metadata": {},
   "outputs": [],
   "source": [
    "pairs = ak.combinations(muons, 2)\n",
    "mu1, mu2 = ak.unzip(pairs)"
   ]
  },
  {
   "cell_type": "markdown",
   "metadata": {},
   "source": [
    "- With `ak.unzip` we can get the first and second muon in each pair separately and then use those separate arrays to compute the invariant mass of each pair.\n",
    "$$\n",
    "    m = \\sqrt{\n",
    "        2p_{T1}p_{T2}\\cosh(\\eta_1 - \\eta_2) - \\cos(\\phi_1 - \\phi_2)\n",
    "    }\n",
    "$$"
   ]
  },
  {
   "cell_type": "code",
   "execution_count": null,
   "metadata": {},
   "outputs": [],
   "source": [
    "import numpy as np\n",
    "\n",
    "mu1, mu2 = ak.unzip(pairs)\n",
    "\n",
    "mass = np.sqrt(\n",
    "    2 * mu1.pt * mu2.pt * (np.cosh(mu1.eta - mu2.eta) - np.cos(mu1.phi - mu2.phi))\n",
    ")"
   ]
  },
  {
   "cell_type": "markdown",
   "metadata": {},
   "source": [
    "- We will now use a histograming tool provided to us by Scikit-HEP: Hist. How is using Hist better than just using vanilla Matplotlib.\n",
    "  1. You can more easily get advanced binning options such as variable and irregular bins, and multiple axis types\n",
    "  2. Built on top of `boost-histogram` library which offers powerful histogram operations with high performance.\n",
    "  3. Offers methods beyond plotting histograms such as histogram manipulations and the calculation of statistical properties directly from the histogram objects.\n",
    "- Lets go ahead and use it!"
   ]
  },
  {
   "cell_type": "code",
   "execution_count": null,
   "metadata": {},
   "outputs": [],
   "source": [
    "import hist\n",
    "import matplotlib.pyplot as plt\n",
    "\n",
    "h = hist.Hist(hist.axis.Regular(120, 0, 120, name=\"mass\", label=\"mass [GeV]\"))\n",
    "h.fill(ak.ravel(mass))\n",
    "h.plot()"
   ]
  },
  {
   "cell_type": "markdown",
   "metadata": {},
   "source": [
    "- Plotting this in a way that will seem more familiar... "
   ]
  },
  {
   "cell_type": "code",
   "execution_count": null,
   "metadata": {},
   "outputs": [],
   "source": [
    "hlog = hist.Hist(\n",
    "    hist.axis.Variable(\n",
    "        np.logspace(np.log10(10e-1), np.log10(10e3), 100),\n",
    "        ), \n",
    "    )\n",
    "hlog.fill(ak.ravel(mass))\n",
    "\n",
    "fig, ax = plt.subplots()\n",
    "hlog.plot(ax=ax, yerr=False, lw=1)\n",
    "ax.set_xscale(\"log\")\n",
    "ax.set_yscale(\"log\")\n",
    "ax.set_xlim(0, 10e3)\n",
    "ax.set_xlabel(\"Dimuon invariant mass [GeV]\")\n",
    "plt.show()"
   ]
  },
  {
   "cell_type": "markdown",
   "metadata": {},
   "source": [
    "- We can see that we can already see the Z peak, but $J/\\psi$ peaks, but not much else.\n",
    "- For now, however, lets focus on Z0, which we can see in the plot which is not logarithmic as a peak at ~90 GeV. To improve the plot, we can impose charge conservation as shown here"
   ]
  },
  {
   "cell_type": "code",
   "execution_count": null,
   "metadata": {},
   "outputs": [],
   "source": [
    "oppq_mask = mu1[\"charge\"] != mu2[\"charge\"]\n",
    "mass_oppq = mass[oppq_mask]\n",
    "\n",
    "h_oppq = hist.Hist(\n",
    "    hist.axis.Regular(\n",
    "        120, 0, 120\n",
    "        ), \n",
    "    )\n",
    "h_oppq.fill(ak.ravel(mass_oppq))\n",
    "\n",
    "fig, ax = plt.subplots()\n",
    "h_oppq.plot(ax=ax, yerr=False, lw=1)\n",
    "ax.set_xlabel(\"Dimuon invariant mass [GeV]\")\n",
    "plt.show()"
   ]
  },
  {
   "cell_type": "code",
   "execution_count": null,
   "metadata": {},
   "outputs": [],
   "source": [
    "import particle, hepunits\n",
    "\n",
    "zmass = particle.Particle.findall(\"Z0\")[0].mass / hepunits.GeV\n",
    "zmass"
   ]
  },
  {
   "cell_type": "code",
   "execution_count": null,
   "metadata": {},
   "outputs": [],
   "source": [
    "deltamass = abs(mass_oppq - zmass)\n",
    "which = ak.argmin(deltamass, axis=1, keepdims=True)\n",
    "mass_Z0like = ak.flatten(ak.flatten(mass_oppq[which]), axis=0)\n",
    "mass_Z0like"
   ]
  },
  {
   "cell_type": "code",
   "execution_count": null,
   "metadata": {},
   "outputs": [],
   "source": [
    "h_Z0like = hist.Hist(\n",
    "    hist.axis.Regular(\n",
    "        120, 0, 120\n",
    "        ), \n",
    "    )\n",
    "h_Z0like.fill(ak.ravel(mass_Z0like))\n",
    "\n",
    "fig, ax = plt.subplots()\n",
    "h_Z0like.plot(ax=ax, yerr=False, lw=1)\n",
    "ax.set_xlabel(\"Dimuon invariant mass [GeV]\")\n",
    "plt.show()"
   ]
  }
 ],
 "metadata": {
  "kernelspec": {
   "display_name": "uproot",
   "language": "python",
   "name": "python3"
  },
  "language_info": {
   "codemirror_mode": {
    "name": "ipython",
    "version": 3
   },
   "file_extension": ".py",
   "mimetype": "text/x-python",
   "name": "python",
   "nbconvert_exporter": "python",
   "pygments_lexer": "ipython3",
   "version": "3.11.6"
  }
 },
 "nbformat": 4,
 "nbformat_minor": 2
}
