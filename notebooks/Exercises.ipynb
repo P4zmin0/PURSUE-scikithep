{
 "cells": [
  {
   "cell_type": "markdown",
   "metadata": {},
   "source": [
    "# Exercise Notebook\n",
    "\n",
    "Having learned the main tools offered by the Scikit-HEP project, lets go ahead and apply them to achieve a particular task. Join up into groups of 2-3 and select a problem you wish you tackle."
   ]
  },
  {
   "cell_type": "markdown",
   "metadata": {},
   "source": [
    "## Exercise 1: $H \\to ZZ \\to 4\\mathcal l$"
   ]
  },
  {
   "cell_type": "markdown",
   "metadata": {},
   "source": [
    "## Exercise 2: Discovering the Higgs"
   ]
  },
  {
   "cell_type": "markdown",
   "metadata": {},
   "source": [
    "## "
   ]
  }
 ],
 "metadata": {
  "language_info": {
   "name": "python"
  }
 },
 "nbformat": 4,
 "nbformat_minor": 2
}
