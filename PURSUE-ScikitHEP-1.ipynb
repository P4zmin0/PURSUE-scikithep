{
 "cells": [
  {
   "cell_type": "markdown",
   "metadata": {},
   "source": [
    "# PURSUE Scikit-HEP Session Lecture Notebook (Part 1)\n",
    "\n",
    "## Introduction\n",
    "\n",
    "- Uproot is a Scikit-HEP package which offers tools to read and write `.root` files without the use of ROOT.\n",
    "- In this session, we will be learning about this useful package by going through the [HSF Uproot Tutorial](https://masonproffitt.github.io/uproot-tutorial/).\n",
    "- This notebook is meant to summarize the material found in the afformentioned tutorial, while expanding on some points not emphasized there, and can be used as a quick reference or to follow along during the session. \n",
    "- For a more complete description of Uproot and other Scikit-HEP packages, please visit the [Scikit-HEP Project Website](https://scikit-hep.org/)\n",
    "\n",
    "## ROOT?\n",
    "- Root is a specialized data format designed to store large amounts of data in a structured way.\n",
    "- They can contain a variety of data types such as histograms.\n",
    "- One of the key features of a root file is the TTree structure in which each entry represents an event and each branch various pieces of data associated with said event.\n",
    "\n",
    "## Arrays\n",
    "- When running numerical computations involving a collection of numbers, the usual object of choise is the numpy array. With these we can perform fast computations (Numpy is a compiled library)."
   ]
  },
  {
   "cell_type": "code",
   "execution_count": 2,
   "metadata": {},
   "outputs": [],
   "source": [
    "import numpy as np\n",
    "\n",
    "arr1 = np.array(\n",
    "    [1, 2, 3, 4, 5]\n",
    ")\n",
    "arr2 = np.array(\n",
    "    [5, 4, 3, 2, 1]\n",
    ")"
   ]
  },
  {
   "cell_type": "markdown",
   "metadata": {},
   "source": [
    "- Numpy allows us to do operations between arrays instead of element by element. This type of array-wise operations are called vectorized operations and they are fundamental to a programming paradigm known as array-oriented programming. This is in constrast to the typical approach of iterating over a whole collection of objects, which can be rather slow procedure, as illustrated below.\n",
    "\n",
    "<img src=\"./assets/vectorized.png\" alt=\"vectorized\" style=\"width: 400px\"/>"
   ]
  },
  {
   "cell_type": "code",
   "execution_count": 3,
   "metadata": {},
   "outputs": [
    {
     "name": "stdout",
     "output_type": "stream",
     "text": [
      "1.03 µs ± 28.3 ns per loop (mean ± std. dev. of 7 runs, 1,000,000 loops each)\n"
     ]
    }
   ],
   "source": [
    "%%timeit\n",
    "# Slow way\n",
    "sumrslt = []\n",
    "for i, j in zip(arr1, arr2):\n",
    "    sumrslt.append(i + j)\n",
    "sumarr = np.array(sumrslt)"
   ]
  },
  {
   "cell_type": "code",
   "execution_count": 4,
   "metadata": {},
   "outputs": [
    {
     "name": "stdout",
     "output_type": "stream",
     "text": [
      "260 ns ± 2.37 ns per loop (mean ± std. dev. of 7 runs, 1,000,000 loops each)\n"
     ]
    }
   ],
   "source": [
    "%%timeit\n",
    "# Faster way!\n",
    "rsltarr = arr1 + arr2 # It also looks much nicer!"
   ]
  },
  {
   "cell_type": "markdown",
   "metadata": {},
   "source": [
    "- Vectorized operations such as the ones allowed by numpy are not only faster, but, as you can see, have a more elegant syntax.\n",
    "- Numpy allows us to perform a slew of vectorized operations."
   ]
  },
  {
   "cell_type": "code",
   "execution_count": 5,
   "metadata": {},
   "outputs": [
    {
     "name": "stdout",
     "output_type": "stream",
     "text": [
      "[1 2 3 4 5] - [5 4 3 2 1] = [-4 -2  0  2  4]\n",
      "[1 2 3 4 5] / [5 4 3 2 1] = [0.2 0.5 1.  2.  5. ]\n",
      "[1 2 3 4 5] * [5 4 3 2 1] = [5 8 9 8 5]\n",
      "[1 2 3 4 5] % [5 4 3 2 1] = [1 2 0 0 0]\n",
      "\n",
      "[1 2 3 4 5] == [5 4 3 2 1] = [False False  True False False]\n",
      "[1 2 3 4 5] != [5 4 3 2 1] = [ True  True False  True  True]\n",
      "[1 2 3 4 5] < [5 4 3 2 1] = [ True  True False False False]\n",
      "\n",
      "NOT: ~[False False  True False False] = [ True  True False  True  True]\n",
      "AND: [ True  True False  True  True] & [False False  True False False] = [False False False False False]\n",
      "OR: [False False  True False False] | [ True  True False  True  True] = [ True  True  True  True  True]\n"
     ]
    }
   ],
   "source": [
    "# Mathematical operations\n",
    "print(\"{} - {} = {}\".format(arr1, arr2, arr1 - arr2))\n",
    "print(\"{} / {} = {}\".format(arr1, arr2, arr1 / arr2))\n",
    "print(\"{} * {} = {}\".format(arr1, arr2, arr1 * arr2))\n",
    "print(\"{} % {} = {}\".format(arr1, arr2, arr1 % arr2))\n",
    "print()\n",
    "\n",
    "# Comparison operations\n",
    "eq_comp = arr1 == arr2\n",
    "print(\"{} == {} = {}\".format(arr1, arr2, eq_comp))\n",
    "\n",
    "ineq_comp = arr1 != arr2\n",
    "print(\"{} != {} = {}\".format(arr1, arr2, ineq_comp))\n",
    "\n",
    "print(\"{} < {} = {}\".format(arr1, arr2, arr1 < arr2))\n",
    "print()\n",
    "\n",
    "# Logical operations\n",
    "print(\"NOT: ~{} = {}\".format(eq_comp, ~eq_comp))\n",
    "print(\"AND: {} & {} = {}\".format(ineq_comp, eq_comp, ineq_comp & eq_comp))\n",
    "print(\"OR: {} | {} = {}\".format(eq_comp, ineq_comp, eq_comp | ineq_comp))\n"
   ]
  },
  {
   "cell_type": "markdown",
   "metadata": {},
   "source": [
    "- Furthermore, with numpy, we can select construct higher dimensional object such as matrices."
   ]
  },
  {
   "cell_type": "code",
   "execution_count": 6,
   "metadata": {},
   "outputs": [
    {
     "data": {
      "text/plain": [
       "array([[-510,    0,  510],\n",
       "       [-765,    0,  765],\n",
       "       [-510,    0,  510]])"
      ]
     },
     "execution_count": 6,
     "metadata": {},
     "output_type": "execute_result"
    }
   ],
   "source": [
    "# Convolution example with numpy\n",
    "from scipy.signal import convolve2d\n",
    "gradient_kernel = np.array([\n",
    "                            [-1, 0, 1],\n",
    "                            [-1, 0, 1],\n",
    "                            [-1, 0, 1]\n",
    "                        ])\n",
    "picture = np.array([\n",
    "            [0, 255, 0],\n",
    "            [0, 255, 0],\n",
    "            [0, 255, 0]\n",
    "        ])\n",
    "\n",
    "# Performing a convolution on our \"image\"\n",
    "convolve2d(picture, gradient_kernel, mode=\"same\")"
   ]
  },
  {
   "cell_type": "markdown",
   "metadata": {},
   "source": [
    "## Jagged Arrays\n",
    "- One of the limitations of numpy array is that if we construct, say, a matrix, it must have a homogeneous shape.\n"
   ]
  },
  {
   "cell_type": "code",
   "execution_count": 7,
   "metadata": {},
   "outputs": [
    {
     "ename": "ValueError",
     "evalue": "setting an array element with a sequence. The requested array has an inhomogeneous shape after 1 dimensions. The detected shape was (3,) + inhomogeneous part.",
     "output_type": "error",
     "traceback": [
      "\u001b[0;31m---------------------------------------------------------------------------\u001b[0m",
      "\u001b[0;31mValueError\u001b[0m                                Traceback (most recent call last)",
      "Cell \u001b[0;32mIn[7], line 1\u001b[0m\n\u001b[0;32m----> 1\u001b[0m \u001b[43mnp\u001b[49m\u001b[38;5;241;43m.\u001b[39;49m\u001b[43marray\u001b[49m\u001b[43m(\u001b[49m\u001b[43m[\u001b[49m\n\u001b[1;32m      2\u001b[0m \u001b[43m    \u001b[49m\u001b[43m[\u001b[49m\u001b[38;5;241;43m1\u001b[39;49m\u001b[43m,\u001b[49m\u001b[43m \u001b[49m\u001b[38;5;241;43m2\u001b[39;49m\u001b[43m,\u001b[49m\u001b[43m \u001b[49m\u001b[38;5;241;43m3\u001b[39;49m\u001b[43m]\u001b[49m\u001b[43m,\u001b[49m\n\u001b[1;32m      3\u001b[0m \u001b[43m    \u001b[49m\u001b[43m[\u001b[49m\u001b[38;5;241;43m1\u001b[39;49m\u001b[43m]\u001b[49m\u001b[43m,\u001b[49m\n\u001b[1;32m      4\u001b[0m \u001b[43m    \u001b[49m\u001b[43m[\u001b[49m\u001b[38;5;241;43m5\u001b[39;49m\u001b[43m,\u001b[49m\u001b[43m \u001b[49m\u001b[38;5;241;43m7\u001b[39;49m\u001b[43m,\u001b[49m\u001b[43m \u001b[49m\u001b[38;5;241;43m8\u001b[39;49m\u001b[43m,\u001b[49m\u001b[43m \u001b[49m\u001b[38;5;241;43m100\u001b[39;49m\u001b[43m]\u001b[49m\n\u001b[1;32m      5\u001b[0m \u001b[43m]\u001b[49m\u001b[43m)\u001b[49m\n",
      "\u001b[0;31mValueError\u001b[0m: setting an array element with a sequence. The requested array has an inhomogeneous shape after 1 dimensions. The detected shape was (3,) + inhomogeneous part."
     ]
    }
   ],
   "source": [
    "np.array([\n",
    "    [1, 2, 3],\n",
    "    [1],\n",
    "    [5, 7, 8, 100]\n",
    "])"
   ]
  },
  {
   "cell_type": "markdown",
   "metadata": {},
   "source": [
    "- In HEP, you might events with different number of the same particle. This means that the length of object collections (e.g. $p_T$ of detected muons) is not constant. In order to deal with this type of data, we use jagged arrays through the Awakrd library, which builds upon numpy by giving us the ability to have numpy-like arrays, but which can have a non-homogenous shape.\n",
    "- Awkward Array is a library for using nested, variable-sized data with a Numpy-like syntax."
   ]
  },
  {
   "cell_type": "code",
   "execution_count": 8,
   "metadata": {},
   "outputs": [
    {
     "data": {
      "text/plain": [
       "awkward.highlevel.Array"
      ]
     },
     "execution_count": 8,
     "metadata": {},
     "output_type": "execute_result"
    }
   ],
   "source": [
    "import awkward as ak\n",
    "\n",
    "awk_arr = ak.Array([\n",
    "    [1, 2, 3],\n",
    "    [1],\n",
    "    [5, 7, 8, 100]\n",
    "])\n",
    "\n",
    "type(awk_arr)"
   ]
  },
  {
   "cell_type": "code",
   "execution_count": 9,
   "metadata": {},
   "outputs": [
    {
     "data": {
      "text/html": [
       "<pre>[6,\n",
       " 1,\n",
       " 120]\n",
       "---------------\n",
       "type: 3 * int64</pre>"
      ],
      "text/plain": [
       "<Array [6, 1, 120] type='3 * int64'>"
      ]
     },
     "execution_count": 9,
     "metadata": {},
     "output_type": "execute_result"
    }
   ],
   "source": [
    "ak.sum(awk_arr, axis=1)"
   ]
  },
  {
   "cell_type": "markdown",
   "metadata": {},
   "source": [
    "<>"
   ]
  },
  {
   "cell_type": "markdown",
   "metadata": {},
   "source": [
    "<>"
   ]
  },
  {
   "cell_type": "markdown",
   "metadata": {},
   "source": [
    "- In order to see truly understand how powerful this new type of array is, we will use some real physics data from CMS. In roder to do this, we will need to introduce one of the fundamental tools of the Sciki-HEP tool-kit: Uproot."
   ]
  },
  {
   "cell_type": "markdown",
   "metadata": {},
   "source": [
    "## Opening ROOT files with Uproot\n",
    "- We will be using a `root` file which contains real CMS data of pp collisions in 2012.\n",
    "- Root files contents are structured in a way reminiscent of a small filesystem with directories and nested directories.\n",
    "- <>\n",
    "\n",
    "<img src=\"./assets/roottree.png\" alt=\"roottree\" style=\"width: 400px\"/>"
   ]
  },
  {
   "cell_type": "code",
   "execution_count": 10,
   "metadata": {},
   "outputs": [],
   "source": [
    "# Run this cell to import Uproot\n",
    "import uproot"
   ]
  },
  {
   "cell_type": "code",
   "execution_count": 11,
   "metadata": {},
   "outputs": [
    {
     "name": "stdout",
     "output_type": "stream",
     "text": [
      "--2024-04-08 19:32:24--  https://github.com/masonproffitt/uproot-tutorial-notebooks/raw/master/uproot-tutorial-file.root\n",
      "Resolving github.com (github.com)... 140.82.114.3\n",
      "Connecting to github.com (github.com)|140.82.114.3|:443... connected.\n",
      "HTTP request sent, awaiting response... 302 Found\n",
      "Location: https://raw.githubusercontent.com/masonproffitt/uproot-tutorial-notebooks/master/uproot-tutorial-file.root [following]\n",
      "--2024-04-08 19:32:25--  https://raw.githubusercontent.com/masonproffitt/uproot-tutorial-notebooks/master/uproot-tutorial-file.root\n",
      "Resolving raw.githubusercontent.com (raw.githubusercontent.com)... 185.199.109.133, 185.199.111.133, 185.199.110.133, ...\n",
      "Connecting to raw.githubusercontent.com (raw.githubusercontent.com)|185.199.109.133|:443... connected.\n",
      "HTTP request sent, awaiting response... 200 OK\n",
      "Length: 3568384 (3.4M) [application/octet-stream]\n",
      "Saving to: ‘uproot-tutorial-file.root.1’\n",
      "\n",
      "uproot-tutorial-fil 100%[===================>]   3.40M  5.22MB/s    in 0.7s    \n",
      "\n",
      "2024-04-08 19:32:26 (5.22 MB/s) - ‘uproot-tutorial-file.root.1’ saved [3568384/3568384]\n",
      "\n",
      "--2024-04-08 19:32:26--  http://./\n",
      "Resolving . (.)... failed: nodename nor servname provided, or not known.\n",
      "wget: unable to resolve host address ‘.’\n",
      "FINISHED --2024-04-08 19:32:26--\n",
      "Total wall clock time: 1.9s\n",
      "Downloaded: 1 files, 3.4M in 0.7s (5.22 MB/s)\n"
     ]
    }
   ],
   "source": [
    "# Run this cell to download the data if you haven't already.\n",
    "! wget https://github.com/masonproffitt/uproot-tutorial-notebooks/raw/master/uproot-tutorial-file.root ."
   ]
  },
  {
   "cell_type": "markdown",
   "metadata": {},
   "source": [
    "- To open the file, we can the use the `open` function provided by Uproot."
   ]
  },
  {
   "cell_type": "code",
   "execution_count": 12,
   "metadata": {},
   "outputs": [
    {
     "data": {
      "text/plain": [
       "<ReadOnlyDirectory '/' at 0x00011f71b110>"
      ]
     },
     "execution_count": 12,
     "metadata": {},
     "output_type": "execute_result"
    }
   ],
   "source": [
    "# Opening the root file\n",
    "file = uproot.open(\"./uproot-tutorial-file.root\")\n",
    "file"
   ]
  },
  {
   "cell_type": "markdown",
   "metadata": {},
   "source": [
    "- We can check the name of the contents at the upper-most level of this \"directory\" structure.\n",
    "- Notice that the syntax used here is similar to that of dictionaries."
   ]
  },
  {
   "cell_type": "code",
   "execution_count": 13,
   "metadata": {},
   "outputs": [
    {
     "data": {
      "text/plain": [
       "['Events;1']"
      ]
     },
     "execution_count": 13,
     "metadata": {},
     "output_type": "execute_result"
    }
   ],
   "source": [
    "# Checking the name of the contents\n",
    "file.keys()"
   ]
  },
  {
   "cell_type": "code",
   "execution_count": 14,
   "metadata": {},
   "outputs": [
    {
     "data": {
      "text/plain": [
       "{'Events;1': 'TTree'}"
      ]
     },
     "execution_count": 14,
     "metadata": {},
     "output_type": "execute_result"
    }
   ],
   "source": [
    "# We can also check the type of each of the contents\n",
    "file.classnames()"
   ]
  },
  {
   "cell_type": "markdown",
   "metadata": {},
   "source": [
    "- A TTree is is a class which stores data in a way similar to Pandas DataFrames. Each \"column\" is a TBranch and it can contain objects of any C++ type.\n",
    "- In the cell below, notice that each the `Events` TTree has 6 branches."
   ]
  },
  {
   "cell_type": "code",
   "execution_count": 15,
   "metadata": {},
   "outputs": [
    {
     "data": {
      "text/plain": [
       "<TTree 'Events' (6 branches) at 0x00012e340c50>"
      ]
     },
     "execution_count": 15,
     "metadata": {},
     "output_type": "execute_result"
    }
   ],
   "source": [
    "# We can access the TTree like this\n",
    "file[\"Events\"]"
   ]
  },
  {
   "cell_type": "markdown",
   "metadata": {},
   "source": [
    "- We can access the contents of this TTree the following way. When we do, we can see the name of each branch, which describes what content each branch has. "
   ]
  },
  {
   "cell_type": "code",
   "execution_count": 16,
   "metadata": {},
   "outputs": [
    {
     "data": {
      "text/plain": [
       "['nMuon', 'Muon_pt', 'Muon_eta', 'Muon_phi', 'Muon_mass', 'Muon_charge']"
      ]
     },
     "execution_count": 16,
     "metadata": {},
     "output_type": "execute_result"
    }
   ],
   "source": [
    "tree = file[\"Events\"]\n",
    "tree.keys()"
   ]
  },
  {
   "cell_type": "markdown",
   "metadata": {},
   "source": [
    "- Note that you can access branches in a tree more directly with the following syntax. You can use whatever syntax you prefer."
   ]
  },
  {
   "cell_type": "code",
   "execution_count": 17,
   "metadata": {},
   "outputs": [
    {
     "data": {
      "text/plain": [
       "<TBranch 'nMuon' at 0x00011fe41790>"
      ]
     },
     "execution_count": 17,
     "metadata": {},
     "output_type": "execute_result"
    }
   ],
   "source": [
    "file[\"Events;1/nMuon\"]"
   ]
  },
  {
   "cell_type": "markdown",
   "metadata": {},
   "source": [
    "- To emphasize the point about TTrees having a similar structure to Pandas DataFrames, notice that the data can be transformed into a DataFrame relatively easily."
   ]
  },
  {
   "cell_type": "code",
   "execution_count": 18,
   "metadata": {},
   "outputs": [
    {
     "data": {
      "text/html": [
       "<div>\n",
       "<style scoped>\n",
       "    .dataframe tbody tr th:only-of-type {\n",
       "        vertical-align: middle;\n",
       "    }\n",
       "\n",
       "    .dataframe tbody tr th {\n",
       "        vertical-align: top;\n",
       "    }\n",
       "\n",
       "    .dataframe thead th {\n",
       "        text-align: right;\n",
       "    }\n",
       "</style>\n",
       "<table border=\"1\" class=\"dataframe\">\n",
       "  <thead>\n",
       "    <tr style=\"text-align: right;\">\n",
       "      <th></th>\n",
       "      <th>nMuon</th>\n",
       "      <th>Muon_pt</th>\n",
       "      <th>Muon_eta</th>\n",
       "      <th>Muon_phi</th>\n",
       "      <th>Muon_mass</th>\n",
       "      <th>Muon_charge</th>\n",
       "    </tr>\n",
       "  </thead>\n",
       "  <tbody>\n",
       "    <tr>\n",
       "      <th>0</th>\n",
       "      <td>2</td>\n",
       "      <td>[10.763696670532227, 15.736522674560547]</td>\n",
       "      <td>[1.0668272972106934, -0.563786506652832]</td>\n",
       "      <td>[-0.03427272289991379, 2.5426154136657715]</td>\n",
       "      <td>[0.10565836727619171, 0.10565836727619171]</td>\n",
       "      <td>[-1, -1]</td>\n",
       "    </tr>\n",
       "    <tr>\n",
       "      <th>1</th>\n",
       "      <td>2</td>\n",
       "      <td>[10.538490295410156, 16.327096939086914]</td>\n",
       "      <td>[-0.42778006196022034, 0.34922507405281067]</td>\n",
       "      <td>[-0.2747921049594879, 2.539781332015991]</td>\n",
       "      <td>[0.10565836727619171, 0.10565836727619171]</td>\n",
       "      <td>[1, -1]</td>\n",
       "    </tr>\n",
       "    <tr>\n",
       "      <th>2</th>\n",
       "      <td>1</td>\n",
       "      <td>[3.2753264904022217]</td>\n",
       "      <td>[2.210855484008789]</td>\n",
       "      <td>[-1.2234135866165161]</td>\n",
       "      <td>[0.10565836727619171]</td>\n",
       "      <td>[1]</td>\n",
       "    </tr>\n",
       "    <tr>\n",
       "      <th>3</th>\n",
       "      <td>4</td>\n",
       "      <td>[11.429154396057129, 17.634033203125, 9.624728...</td>\n",
       "      <td>[-1.5882395505905151, -1.7511844635009766, -1....</td>\n",
       "      <td>[-2.0773041248321533, 0.25135836005210876, -2....</td>\n",
       "      <td>[0.10565836727619171, 0.10565836727619171, 0.1...</td>\n",
       "      <td>[1, 1, 1, 1]</td>\n",
       "    </tr>\n",
       "    <tr>\n",
       "      <th>4</th>\n",
       "      <td>4</td>\n",
       "      <td>[3.2834417819976807, 3.64400577545166, 32.9112...</td>\n",
       "      <td>[-2.1724836826324463, -2.18253493309021, -1.12...</td>\n",
       "      <td>[-2.3700082302093506, -2.3051390647888184, -0....</td>\n",
       "      <td>[0.10565836727619171, 0.10565836727619171, 0.1...</td>\n",
       "      <td>[-1, -1, 1, 1]</td>\n",
       "    </tr>\n",
       "    <tr>\n",
       "      <th>5</th>\n",
       "      <td>3</td>\n",
       "      <td>[3.566528081893921, 4.572504043579102, 4.37186...</td>\n",
       "      <td>[-1.371932029724121, -0.703264594078064, -1.03...</td>\n",
       "      <td>[-2.9090449810028076, 2.4552080631256104, -3.0...</td>\n",
       "      <td>[0.10565836727619171, 0.10565836727619171, 0.1...</td>\n",
       "      <td>[-1, 1, -1]</td>\n",
       "    </tr>\n",
       "    <tr>\n",
       "      <th>6</th>\n",
       "      <td>2</td>\n",
       "      <td>[57.6067008972168, 53.04507827758789]</td>\n",
       "      <td>[-0.5320892930030823, -1.0041686296463013]</td>\n",
       "      <td>[-0.07179804146289825, 3.089515209197998]</td>\n",
       "      <td>[0.10565836727619171, 0.10565836727619171]</td>\n",
       "      <td>[-1, 1]</td>\n",
       "    </tr>\n",
       "    <tr>\n",
       "      <th>7</th>\n",
       "      <td>2</td>\n",
       "      <td>[11.31967544555664, 23.906352996826172]</td>\n",
       "      <td>[-0.7716585397720337, -0.700996994972229]</td>\n",
       "      <td>[-2.2452728748321533, -2.1809616088867188]</td>\n",
       "      <td>[0.10565836727619171, 0.10565836727619171]</td>\n",
       "      <td>[1, -1]</td>\n",
       "    </tr>\n",
       "    <tr>\n",
       "      <th>8</th>\n",
       "      <td>2</td>\n",
       "      <td>[10.19356918334961, 14.204060554504395]</td>\n",
       "      <td>[0.4418068528175354, 0.7021172642707825]</td>\n",
       "      <td>[0.6778520345687866, -2.0344009399414062]</td>\n",
       "      <td>[0.10565836727619171, 0.10565836727619171]</td>\n",
       "      <td>[-1, 1]</td>\n",
       "    </tr>\n",
       "    <tr>\n",
       "      <th>9</th>\n",
       "      <td>2</td>\n",
       "      <td>[11.470704078674316, 3.4690065383911133]</td>\n",
       "      <td>[2.3417420387268066, 2.3523731231689453]</td>\n",
       "      <td>[3.1309704780578613, 3.0211737155914307]</td>\n",
       "      <td>[0.10565836727619171, 0.10565836727619171]</td>\n",
       "      <td>[-1, 1]</td>\n",
       "    </tr>\n",
       "  </tbody>\n",
       "</table>\n",
       "</div>"
      ],
      "text/plain": [
       "   nMuon                                            Muon_pt  \\\n",
       "0      2           [10.763696670532227, 15.736522674560547]   \n",
       "1      2           [10.538490295410156, 16.327096939086914]   \n",
       "2      1                               [3.2753264904022217]   \n",
       "3      4  [11.429154396057129, 17.634033203125, 9.624728...   \n",
       "4      4  [3.2834417819976807, 3.64400577545166, 32.9112...   \n",
       "5      3  [3.566528081893921, 4.572504043579102, 4.37186...   \n",
       "6      2              [57.6067008972168, 53.04507827758789]   \n",
       "7      2            [11.31967544555664, 23.906352996826172]   \n",
       "8      2            [10.19356918334961, 14.204060554504395]   \n",
       "9      2           [11.470704078674316, 3.4690065383911133]   \n",
       "\n",
       "                                            Muon_eta  \\\n",
       "0           [1.0668272972106934, -0.563786506652832]   \n",
       "1        [-0.42778006196022034, 0.34922507405281067]   \n",
       "2                                [2.210855484008789]   \n",
       "3  [-1.5882395505905151, -1.7511844635009766, -1....   \n",
       "4  [-2.1724836826324463, -2.18253493309021, -1.12...   \n",
       "5  [-1.371932029724121, -0.703264594078064, -1.03...   \n",
       "6         [-0.5320892930030823, -1.0041686296463013]   \n",
       "7          [-0.7716585397720337, -0.700996994972229]   \n",
       "8           [0.4418068528175354, 0.7021172642707825]   \n",
       "9           [2.3417420387268066, 2.3523731231689453]   \n",
       "\n",
       "                                            Muon_phi  \\\n",
       "0         [-0.03427272289991379, 2.5426154136657715]   \n",
       "1           [-0.2747921049594879, 2.539781332015991]   \n",
       "2                              [-1.2234135866165161]   \n",
       "3  [-2.0773041248321533, 0.25135836005210876, -2....   \n",
       "4  [-2.3700082302093506, -2.3051390647888184, -0....   \n",
       "5  [-2.9090449810028076, 2.4552080631256104, -3.0...   \n",
       "6          [-0.07179804146289825, 3.089515209197998]   \n",
       "7         [-2.2452728748321533, -2.1809616088867188]   \n",
       "8          [0.6778520345687866, -2.0344009399414062]   \n",
       "9           [3.1309704780578613, 3.0211737155914307]   \n",
       "\n",
       "                                           Muon_mass     Muon_charge  \n",
       "0         [0.10565836727619171, 0.10565836727619171]        [-1, -1]  \n",
       "1         [0.10565836727619171, 0.10565836727619171]         [1, -1]  \n",
       "2                              [0.10565836727619171]             [1]  \n",
       "3  [0.10565836727619171, 0.10565836727619171, 0.1...    [1, 1, 1, 1]  \n",
       "4  [0.10565836727619171, 0.10565836727619171, 0.1...  [-1, -1, 1, 1]  \n",
       "5  [0.10565836727619171, 0.10565836727619171, 0.1...     [-1, 1, -1]  \n",
       "6         [0.10565836727619171, 0.10565836727619171]         [-1, 1]  \n",
       "7         [0.10565836727619171, 0.10565836727619171]         [1, -1]  \n",
       "8         [0.10565836727619171, 0.10565836727619171]         [-1, 1]  \n",
       "9         [0.10565836727619171, 0.10565836727619171]         [-1, 1]  "
      ]
     },
     "execution_count": 18,
     "metadata": {},
     "output_type": "execute_result"
    }
   ],
   "source": [
    "import pandas as pd\n",
    "\n",
    "tree.arrays(library=\"pd\", entry_stop=10)"
   ]
  },
  {
   "cell_type": "markdown",
   "metadata": {},
   "source": [
    "- Of course, this is not a good way to handle this sort of data. This is just for pedagogical purposes.\n",
    "- In order to convert the data in one of the branches to an array, we would do something like the following."
   ]
  },
  {
   "cell_type": "code",
   "execution_count": 19,
   "metadata": {},
   "outputs": [
    {
     "data": {
      "text/html": [
       "<pre>[{nMuon: 2, Muon_pt: [10.8, 15.7], Muon_eta: [1.07, ...], Muon_phi: [...], ...},\n",
       " {nMuon: 2, Muon_pt: [10.5, 16.3], Muon_eta: [-0.428, ...], Muon_phi: ..., ...},\n",
       " {nMuon: 1, Muon_pt: [3.28], Muon_eta: [2.21], Muon_phi: [-1.22], ...},\n",
       " {nMuon: 4, Muon_pt: [11.4, 17.6, ..., 3.5], Muon_eta: [...], ...},\n",
       " {nMuon: 4, Muon_pt: [3.28, 3.64, ..., 23.7], Muon_eta: [...], ...},\n",
       " {nMuon: 3, Muon_pt: [3.57, 4.57, 4.37], Muon_eta: [...], Muon_phi: [...], ...},\n",
       " {nMuon: 2, Muon_pt: [57.6, 53], Muon_eta: [-0.532, ...], Muon_phi: [...], ...},\n",
       " {nMuon: 2, Muon_pt: [11.3, 23.9], Muon_eta: [-0.772, ...], Muon_phi: ..., ...},\n",
       " {nMuon: 2, Muon_pt: [10.2, 14.2], Muon_eta: [0.442, ...], Muon_phi: ..., ...},\n",
       " {nMuon: 2, Muon_pt: [11.5, 3.47], Muon_eta: [2.34, ...], Muon_phi: [...], ...},\n",
       " ...,\n",
       " {nMuon: 3, Muon_pt: [17.3, 4.57, 5.96], Muon_eta: [...], Muon_phi: [...], ...},\n",
       " {nMuon: 2, Muon_pt: [9.58, 3.33], Muon_eta: [-1.51, ...], Muon_phi: ..., ...},\n",
       " {nMuon: 1, Muon_pt: [9.48], Muon_eta: [1.12], Muon_phi: [0.85], ...},\n",
       " {nMuon: 0, Muon_pt: [], Muon_eta: [], Muon_phi: [], Muon_mass: [], ...},\n",
       " {nMuon: 3, Muon_pt: [30.3, 9.89, 6.69], Muon_eta: [...], Muon_phi: [...], ...},\n",
       " {nMuon: 2, Muon_pt: [46.4, 43.9], Muon_eta: [-1.93, ...], Muon_phi: ..., ...},\n",
       " {nMuon: 3, Muon_pt: [6.34, 6.98, 5.09], Muon_eta: [...], Muon_phi: [...], ...},\n",
       " {nMuon: 2, Muon_pt: [3.31, 15.7], Muon_eta: [1.64, ...], Muon_phi: [...], ...},\n",
       " {nMuon: 3, Muon_pt: [11.4, 3.08, 4.97], Muon_eta: [...], Muon_phi: [...], ...}]\n",
       "--------------------------------------------------------------------------------\n",
       "type: 100000 * {\n",
       "    nMuon: uint32,\n",
       "    Muon_pt: var * float32,\n",
       "    Muon_eta: var * float32,\n",
       "    Muon_phi: var * float32,\n",
       "    Muon_mass: var * float32,\n",
       "    Muon_charge: var * int32\n",
       "}</pre>"
      ],
      "text/plain": [
       "<Array [{nMuon: 2, Muon_pt: [...], ...}, ...] type='100000 * {nMuon: uint32...'>"
      ]
     },
     "execution_count": 19,
     "metadata": {},
     "output_type": "execute_result"
    }
   ],
   "source": [
    "branches = tree.arrays()\n",
    "branches"
   ]
  },
  {
   "cell_type": "markdown",
   "metadata": {},
   "source": [
    "- Notice that the data type of `branches` is an Akward array (we have come full circle!). As you can deduce, one of the fundamental dependencies of Uproot is Awkward, given that most of the data that we deal with in HEP can be organized into jagged arrays"
   ]
  },
  {
   "cell_type": "code",
   "execution_count": 20,
   "metadata": {},
   "outputs": [
    {
     "data": {
      "text/plain": [
       "awkward.highlevel.Array"
      ]
     },
     "execution_count": 20,
     "metadata": {},
     "output_type": "execute_result"
    }
   ],
   "source": [
    "type(branches)"
   ]
  },
  {
   "cell_type": "markdown",
   "metadata": {},
   "source": [
    "- Moreover, if we take a look at the type of the elements of this jagged array, we can find a new type of class provided by Awkward: Record. Records are the Awkward equivalent of Python dictionaries."
   ]
  },
  {
   "cell_type": "code",
   "execution_count": 21,
   "metadata": {},
   "outputs": [
    {
     "data": {
      "text/plain": [
       "awkward.highlevel.Record"
      ]
     },
     "execution_count": 21,
     "metadata": {},
     "output_type": "execute_result"
    }
   ],
   "source": [
    "type(branches[0])"
   ]
  },
  {
   "cell_type": "code",
   "execution_count": 22,
   "metadata": {},
   "outputs": [
    {
     "data": {
      "text/html": [
       "<pre>{nMuon: 2,\n",
       " Muon_pt: [10.8, 15.7],\n",
       " Muon_eta: [1.07, -0.564],\n",
       " Muon_phi: [-0.0343, 2.54],\n",
       " Muon_mass: [0.106, 0.106],\n",
       " Muon_charge: [-1, -1]}\n",
       "-----------------------------\n",
       "type: {\n",
       "    nMuon: uint32,\n",
       "    Muon_pt: var * float32,\n",
       "    Muon_eta: var * float32,\n",
       "    Muon_phi: var * float32,\n",
       "    Muon_mass: var * float32,\n",
       "    Muon_charge: var * int32\n",
       "}</pre>"
      ],
      "text/plain": [
       "<Record {nMuon: 2, Muon_pt: [...], ...} type='{nMuon: uint32, Muon_pt: var ...'>"
      ]
     },
     "execution_count": 22,
     "metadata": {},
     "output_type": "execute_result"
    }
   ],
   "source": [
    "branches[0]"
   ]
  },
  {
   "cell_type": "markdown",
   "metadata": {},
   "source": [
    "- When we have Records inside Awkward Arrays, we can do something pretty useful. Suppose we want the muon $p_T$ for all of the events. Instead of doing this."
   ]
  },
  {
   "cell_type": "code",
   "execution_count": 23,
   "metadata": {},
   "outputs": [
    {
     "data": {
      "text/html": [
       "<pre>[[1.07, -0.564],\n",
       " [-0.428, 0.349],\n",
       " [2.21],\n",
       " [-1.59, -1.75, -1.59, -1.66],\n",
       " [-2.17, -2.18, -1.12, -1.16],\n",
       " [-1.37, -0.703, -1.04],\n",
       " [-0.532, -1],\n",
       " [-0.772, -0.701],\n",
       " [0.442, 0.702],\n",
       " [2.34, 2.35],\n",
       " ...,\n",
       " [0.455, -1.32, 1.1],\n",
       " [-1.51, 2.2],\n",
       " [1.12],\n",
       " [],\n",
       " [0.262, -0.588, 0.312],\n",
       " [-1.93, -2.27],\n",
       " [-0.599, -0.0495, -0.905],\n",
       " [1.64, 0.477],\n",
       " [0.444, -1.69, 0.764]]\n",
       "------------------------------\n",
       "type: 100000 * var * float32</pre>"
      ],
      "text/plain": [
       "<Array [[1.07, -0.564], ..., [0.444, ..., 0.764]] type='100000 * var * float32'>"
      ]
     },
     "execution_count": 23,
     "metadata": {},
     "output_type": "execute_result"
    }
   ],
   "source": [
    "#%%timeit\n",
    "# Uncomment the magic above and you will see that this way is slower!\n",
    "branches[:][\"Muon_eta\"]"
   ]
  },
  {
   "cell_type": "markdown",
   "metadata": {},
   "source": [
    "- We can instead do this."
   ]
  },
  {
   "cell_type": "code",
   "execution_count": 24,
   "metadata": {},
   "outputs": [
    {
     "data": {
      "text/html": [
       "<pre>[[10.8, 15.7],\n",
       " [10.5, 16.3],\n",
       " [3.28],\n",
       " [11.4, 17.6, 9.62, 3.5],\n",
       " [3.28, 3.64, 32.9, 23.7],\n",
       " [3.57, 4.57, 4.37],\n",
       " [57.6, 53],\n",
       " [11.3, 23.9],\n",
       " [10.2, 14.2],\n",
       " [11.5, 3.47],\n",
       " ...,\n",
       " [17.3, 4.57, 5.96],\n",
       " [9.58, 3.33],\n",
       " [9.48],\n",
       " [],\n",
       " [30.3, 9.89, 6.69],\n",
       " [46.4, 43.9],\n",
       " [6.34, 6.98, 5.09],\n",
       " [3.31, 15.7],\n",
       " [11.4, 3.08, 4.97]]\n",
       "----------------------------\n",
       "type: 100000 * var * float32</pre>"
      ],
      "text/plain": [
       "<Array [[10.8, 15.7], ..., [11.4, ..., 4.97]] type='100000 * var * float32'>"
      ]
     },
     "execution_count": 24,
     "metadata": {},
     "output_type": "execute_result"
    }
   ],
   "source": [
    "#%%timeit\n",
    "branches[\"Muon_pt\"]"
   ]
  },
  {
   "cell_type": "markdown",
   "metadata": {},
   "source": [
    "- Or suppose I want the number of muons in each event. Again, we can just do this..."
   ]
  },
  {
   "cell_type": "code",
   "execution_count": 25,
   "metadata": {},
   "outputs": [
    {
     "data": {
      "text/html": [
       "<pre>[2,\n",
       " 2,\n",
       " 1,\n",
       " 4,\n",
       " 4,\n",
       " 3,\n",
       " 2,\n",
       " 2,\n",
       " 2,\n",
       " 2,\n",
       " ...,\n",
       " 3,\n",
       " 2,\n",
       " 1,\n",
       " 0,\n",
       " 3,\n",
       " 2,\n",
       " 3,\n",
       " 2,\n",
       " 3]\n",
       "---------------------\n",
       "type: 100000 * uint32</pre>"
      ],
      "text/plain": [
       "<Array [2, 2, 1, 4, 4, 3, 2, ..., 1, 0, 3, 2, 3, 2, 3] type='100000 * uint32'>"
      ]
     },
     "execution_count": 25,
     "metadata": {},
     "output_type": "execute_result"
    }
   ],
   "source": [
    "# Array\n",
    "branches[\"nMuon\"]"
   ]
  },
  {
   "cell_type": "markdown",
   "metadata": {},
   "source": [
    "- This set-up where we have Records inside an Awkward array, allows much flexibility when it comes to selection and slicing. Here are some examples"
   ]
  },
  {
   "cell_type": "code",
   "execution_count": 26,
   "metadata": {},
   "outputs": [
    {
     "name": "stdout",
     "output_type": "stream",
     "text": [
      "{Muon_pt: [10.8, 15.7], nMuon: 2}\n",
      "{nMuon: 2, Muon_pt: [10.8, 15.7], Muon_eta: [1.07, ...], Muon_phi: [...], ...}\n",
      "[2, 2, 6, 3, 2]\n"
     ]
    }
   ],
   "source": [
    "# Pt of muons in the 0'th event\n",
    "print(branches[[\"Muon_pt\", \"nMuon\"]][0])\n",
    "# All information of event 0\n",
    "print(branches[0])\n",
    "# For events from 10 to 14, the number of muons.\n",
    "print(branches[10:15][\"nMuon\"])"
   ]
  },
  {
   "cell_type": "markdown",
   "metadata": {},
   "source": [
    "**Exercise**: \n",
    "Print out the pt and charge of the muons from events 100 to 115."
   ]
  },
  {
   "cell_type": "code",
   "execution_count": 27,
   "metadata": {},
   "outputs": [
    {
     "data": {
      "text/html": [
       "<pre>[{Muon_pt: [16.1, 10.6], Muon_charge: [-1, 1]},\n",
       " {Muon_pt: [58.7, 32.1], Muon_charge: [1, -1]},\n",
       " {Muon_pt: [27.6, 28.2], Muon_charge: [1, -1]},\n",
       " {Muon_pt: [6, 9.87], Muon_charge: [-1, 1]},\n",
       " {Muon_pt: [16.2], Muon_charge: [-1]},\n",
       " {Muon_pt: [11.3, 7.54], Muon_charge: [-1, 1]},\n",
       " {Muon_pt: [3.84, 8.46], Muon_charge: [-1, 1]},\n",
       " {Muon_pt: [15.3, 4.17], Muon_charge: [-1, 1]},\n",
       " {Muon_pt: [16.6, 10.5, 6.3, 9.23], Muon_charge: [1, ..., -1]},\n",
       " {Muon_pt: [3.3, 10.1, 5.8], Muon_charge: [-1, -1, 1]},\n",
       " {Muon_pt: [9.12, 13.1], Muon_charge: [-1, 1]},\n",
       " {Muon_pt: [8.27, 9.72, 5.05], Muon_charge: [1, 1, -1]},\n",
       " {Muon_pt: [66.1, 26.9], Muon_charge: [-1, 1]},\n",
       " {Muon_pt: [4.44, 15, 10.2, ..., 9.39, 14], Muon_charge: [...]},\n",
       " {Muon_pt: [53.9, 60.5], Muon_charge: [1, -1]},\n",
       " {Muon_pt: [14.7, 3.21], Muon_charge: [-1, 1]}]\n",
       "----------------------------------------------------------------\n",
       "type: 16 * {\n",
       "    Muon_pt: var * float32,\n",
       "    Muon_charge: var * int32\n",
       "}</pre>"
      ],
      "text/plain": [
       "<Array [{Muon_pt: [...], ...}, ..., {...}] type='16 * {Muon_pt: var * float...'>"
      ]
     },
     "execution_count": 27,
     "metadata": {},
     "output_type": "execute_result"
    }
   ],
   "source": [
    "# Put your answer here\n",
    "branches[100:116][[\"Muon_pt\", \"Muon_charge\"]]"
   ]
  },
  {
   "cell_type": "markdown",
   "metadata": {},
   "source": [
    "- In addition, you can peform the same vectorized operations we saw we could do with numpy arrays, but with Awkward arrays."
   ]
  },
  {
   "cell_type": "code",
   "execution_count": 28,
   "metadata": {},
   "outputs": [
    {
     "data": {
      "text/html": [
       "<pre>[[10.8, 15.7],\n",
       " [10.5, 16.3],\n",
       " [3.28],\n",
       " [11.4, 17.6, 9.62, 3.5],\n",
       " [3.28, 3.64, 32.9, 23.7],\n",
       " [3.57, 4.57, 4.37],\n",
       " [57.6, 53],\n",
       " [11.3, 23.9],\n",
       " [10.2, 14.2],\n",
       " [11.5, 3.47],\n",
       " [8.82, 17.6],\n",
       " [14.6, 12.3],\n",
       " [35.6, 15.1, 20.2, 27.6, 7.39, 6.03],\n",
       " [21.8, 9.55, 9.81],\n",
       " [4.34, 13.1]]\n",
       "--------------------------------------\n",
       "type: 15 * var * float32</pre>"
      ],
      "text/plain": [
       "<Array [[10.8, 15.7], [10.5, ...], ..., [4.34, 13.1]] type='15 * var * float32'>"
      ]
     },
     "execution_count": 28,
     "metadata": {},
     "output_type": "execute_result"
    }
   ],
   "source": [
    "muon_pt = branches[\"Muon_pt\"][:15]\n",
    "muon_pt"
   ]
  },
  {
   "cell_type": "code",
   "execution_count": 29,
   "metadata": {},
   "outputs": [
    {
     "data": {
      "text/html": [
       "<pre>[[True, True],\n",
       " [True, True],\n",
       " [True],\n",
       " [True, True, True, True],\n",
       " [True, True, True, True],\n",
       " [True, True, True],\n",
       " [True, True],\n",
       " [True, True],\n",
       " [True, True],\n",
       " [True, True],\n",
       " [True, True],\n",
       " [True, True],\n",
       " [True, True, True, True, True, True],\n",
       " [True, True, True],\n",
       " [True, True]]\n",
       "--------------------------------------\n",
       "type: 15 * var * bool</pre>"
      ],
      "text/plain": [
       "<Array [[True, True], [True, ...], ..., [True, True]] type='15 * var * bool'>"
      ]
     },
     "execution_count": 29,
     "metadata": {},
     "output_type": "execute_result"
    }
   ],
   "source": [
    "muon_pt > 2"
   ]
  },
  {
   "cell_type": "markdown",
   "metadata": {},
   "source": [
    "- Before moving on, one last thing: if we would rather use a library different than Awkward when reading from a ROOT file, we could also use Numpy or Pandas."
   ]
  },
  {
   "cell_type": "code",
   "execution_count": 30,
   "metadata": {},
   "outputs": [
    {
     "data": {
      "text/plain": [
       "array([2, 2, 1, 4, 4, 3, 2, 2, 2, 2], dtype=uint32)"
      ]
     },
     "execution_count": 30,
     "metadata": {},
     "output_type": "execute_result"
    }
   ],
   "source": [
    "tree[\"nMuon\"].array(library=\"np\", entry_stop=10)"
   ]
  },
  {
   "cell_type": "code",
   "execution_count": 31,
   "metadata": {},
   "outputs": [
    {
     "data": {
      "text/plain": [
       "{'nMuon': array([2, 2], dtype=uint32),\n",
       " 'Muon_pt': array([array([10.763697, 15.736523], dtype=float32),\n",
       "        array([10.53849 , 16.327097], dtype=float32)], dtype=object),\n",
       " 'Muon_eta': array([array([ 1.0668273, -0.5637865], dtype=float32),\n",
       "        array([-0.42778006,  0.34922507], dtype=float32)], dtype=object),\n",
       " 'Muon_phi': array([array([-0.03427272,  2.5426154 ], dtype=float32),\n",
       "        array([-0.2747921,  2.5397813], dtype=float32)], dtype=object),\n",
       " 'Muon_mass': array([array([0.10565837, 0.10565837], dtype=float32),\n",
       "        array([0.10565837, 0.10565837], dtype=float32)], dtype=object),\n",
       " 'Muon_charge': array([array([-1, -1], dtype=int32), array([ 1, -1], dtype=int32)],\n",
       "       dtype=object)}"
      ]
     },
     "execution_count": 31,
     "metadata": {},
     "output_type": "execute_result"
    }
   ],
   "source": [
    "tree.arrays(library=\"np\", entry_stop=2)"
   ]
  },
  {
   "cell_type": "code",
   "execution_count": 32,
   "metadata": {},
   "outputs": [
    {
     "data": {
      "text/html": [
       "<div>\n",
       "<style scoped>\n",
       "    .dataframe tbody tr th:only-of-type {\n",
       "        vertical-align: middle;\n",
       "    }\n",
       "\n",
       "    .dataframe tbody tr th {\n",
       "        vertical-align: top;\n",
       "    }\n",
       "\n",
       "    .dataframe thead th {\n",
       "        text-align: right;\n",
       "    }\n",
       "</style>\n",
       "<table border=\"1\" class=\"dataframe\">\n",
       "  <thead>\n",
       "    <tr style=\"text-align: right;\">\n",
       "      <th></th>\n",
       "      <th>nMuon</th>\n",
       "      <th>Muon_pt</th>\n",
       "      <th>Muon_eta</th>\n",
       "      <th>Muon_phi</th>\n",
       "      <th>Muon_mass</th>\n",
       "      <th>Muon_charge</th>\n",
       "    </tr>\n",
       "  </thead>\n",
       "  <tbody>\n",
       "    <tr>\n",
       "      <th>0</th>\n",
       "      <td>2</td>\n",
       "      <td>[10.763696670532227, 15.736522674560547]</td>\n",
       "      <td>[1.0668272972106934, -0.563786506652832]</td>\n",
       "      <td>[-0.03427272289991379, 2.5426154136657715]</td>\n",
       "      <td>[0.10565836727619171, 0.10565836727619171]</td>\n",
       "      <td>[-1, -1]</td>\n",
       "    </tr>\n",
       "    <tr>\n",
       "      <th>1</th>\n",
       "      <td>2</td>\n",
       "      <td>[10.538490295410156, 16.327096939086914]</td>\n",
       "      <td>[-0.42778006196022034, 0.34922507405281067]</td>\n",
       "      <td>[-0.2747921049594879, 2.539781332015991]</td>\n",
       "      <td>[0.10565836727619171, 0.10565836727619171]</td>\n",
       "      <td>[1, -1]</td>\n",
       "    </tr>\n",
       "    <tr>\n",
       "      <th>2</th>\n",
       "      <td>1</td>\n",
       "      <td>[3.2753264904022217]</td>\n",
       "      <td>[2.210855484008789]</td>\n",
       "      <td>[-1.2234135866165161]</td>\n",
       "      <td>[0.10565836727619171]</td>\n",
       "      <td>[1]</td>\n",
       "    </tr>\n",
       "    <tr>\n",
       "      <th>3</th>\n",
       "      <td>4</td>\n",
       "      <td>[11.429154396057129, 17.634033203125, 9.624728...</td>\n",
       "      <td>[-1.5882395505905151, -1.7511844635009766, -1....</td>\n",
       "      <td>[-2.0773041248321533, 0.25135836005210876, -2....</td>\n",
       "      <td>[0.10565836727619171, 0.10565836727619171, 0.1...</td>\n",
       "      <td>[1, 1, 1, 1]</td>\n",
       "    </tr>\n",
       "    <tr>\n",
       "      <th>4</th>\n",
       "      <td>4</td>\n",
       "      <td>[3.2834417819976807, 3.64400577545166, 32.9112...</td>\n",
       "      <td>[-2.1724836826324463, -2.18253493309021, -1.12...</td>\n",
       "      <td>[-2.3700082302093506, -2.3051390647888184, -0....</td>\n",
       "      <td>[0.10565836727619171, 0.10565836727619171, 0.1...</td>\n",
       "      <td>[-1, -1, 1, 1]</td>\n",
       "    </tr>\n",
       "    <tr>\n",
       "      <th>5</th>\n",
       "      <td>3</td>\n",
       "      <td>[3.566528081893921, 4.572504043579102, 4.37186...</td>\n",
       "      <td>[-1.371932029724121, -0.703264594078064, -1.03...</td>\n",
       "      <td>[-2.9090449810028076, 2.4552080631256104, -3.0...</td>\n",
       "      <td>[0.10565836727619171, 0.10565836727619171, 0.1...</td>\n",
       "      <td>[-1, 1, -1]</td>\n",
       "    </tr>\n",
       "    <tr>\n",
       "      <th>6</th>\n",
       "      <td>2</td>\n",
       "      <td>[57.6067008972168, 53.04507827758789]</td>\n",
       "      <td>[-0.5320892930030823, -1.0041686296463013]</td>\n",
       "      <td>[-0.07179804146289825, 3.089515209197998]</td>\n",
       "      <td>[0.10565836727619171, 0.10565836727619171]</td>\n",
       "      <td>[-1, 1]</td>\n",
       "    </tr>\n",
       "    <tr>\n",
       "      <th>7</th>\n",
       "      <td>2</td>\n",
       "      <td>[11.31967544555664, 23.906352996826172]</td>\n",
       "      <td>[-0.7716585397720337, -0.700996994972229]</td>\n",
       "      <td>[-2.2452728748321533, -2.1809616088867188]</td>\n",
       "      <td>[0.10565836727619171, 0.10565836727619171]</td>\n",
       "      <td>[1, -1]</td>\n",
       "    </tr>\n",
       "    <tr>\n",
       "      <th>8</th>\n",
       "      <td>2</td>\n",
       "      <td>[10.19356918334961, 14.204060554504395]</td>\n",
       "      <td>[0.4418068528175354, 0.7021172642707825]</td>\n",
       "      <td>[0.6778520345687866, -2.0344009399414062]</td>\n",
       "      <td>[0.10565836727619171, 0.10565836727619171]</td>\n",
       "      <td>[-1, 1]</td>\n",
       "    </tr>\n",
       "    <tr>\n",
       "      <th>9</th>\n",
       "      <td>2</td>\n",
       "      <td>[11.470704078674316, 3.4690065383911133]</td>\n",
       "      <td>[2.3417420387268066, 2.3523731231689453]</td>\n",
       "      <td>[3.1309704780578613, 3.0211737155914307]</td>\n",
       "      <td>[0.10565836727619171, 0.10565836727619171]</td>\n",
       "      <td>[-1, 1]</td>\n",
       "    </tr>\n",
       "  </tbody>\n",
       "</table>\n",
       "</div>"
      ],
      "text/plain": [
       "   nMuon                                            Muon_pt  \\\n",
       "0      2           [10.763696670532227, 15.736522674560547]   \n",
       "1      2           [10.538490295410156, 16.327096939086914]   \n",
       "2      1                               [3.2753264904022217]   \n",
       "3      4  [11.429154396057129, 17.634033203125, 9.624728...   \n",
       "4      4  [3.2834417819976807, 3.64400577545166, 32.9112...   \n",
       "5      3  [3.566528081893921, 4.572504043579102, 4.37186...   \n",
       "6      2              [57.6067008972168, 53.04507827758789]   \n",
       "7      2            [11.31967544555664, 23.906352996826172]   \n",
       "8      2            [10.19356918334961, 14.204060554504395]   \n",
       "9      2           [11.470704078674316, 3.4690065383911133]   \n",
       "\n",
       "                                            Muon_eta  \\\n",
       "0           [1.0668272972106934, -0.563786506652832]   \n",
       "1        [-0.42778006196022034, 0.34922507405281067]   \n",
       "2                                [2.210855484008789]   \n",
       "3  [-1.5882395505905151, -1.7511844635009766, -1....   \n",
       "4  [-2.1724836826324463, -2.18253493309021, -1.12...   \n",
       "5  [-1.371932029724121, -0.703264594078064, -1.03...   \n",
       "6         [-0.5320892930030823, -1.0041686296463013]   \n",
       "7          [-0.7716585397720337, -0.700996994972229]   \n",
       "8           [0.4418068528175354, 0.7021172642707825]   \n",
       "9           [2.3417420387268066, 2.3523731231689453]   \n",
       "\n",
       "                                            Muon_phi  \\\n",
       "0         [-0.03427272289991379, 2.5426154136657715]   \n",
       "1           [-0.2747921049594879, 2.539781332015991]   \n",
       "2                              [-1.2234135866165161]   \n",
       "3  [-2.0773041248321533, 0.25135836005210876, -2....   \n",
       "4  [-2.3700082302093506, -2.3051390647888184, -0....   \n",
       "5  [-2.9090449810028076, 2.4552080631256104, -3.0...   \n",
       "6          [-0.07179804146289825, 3.089515209197998]   \n",
       "7         [-2.2452728748321533, -2.1809616088867188]   \n",
       "8          [0.6778520345687866, -2.0344009399414062]   \n",
       "9           [3.1309704780578613, 3.0211737155914307]   \n",
       "\n",
       "                                           Muon_mass     Muon_charge  \n",
       "0         [0.10565836727619171, 0.10565836727619171]        [-1, -1]  \n",
       "1         [0.10565836727619171, 0.10565836727619171]         [1, -1]  \n",
       "2                              [0.10565836727619171]             [1]  \n",
       "3  [0.10565836727619171, 0.10565836727619171, 0.1...    [1, 1, 1, 1]  \n",
       "4  [0.10565836727619171, 0.10565836727619171, 0.1...  [-1, -1, 1, 1]  \n",
       "5  [0.10565836727619171, 0.10565836727619171, 0.1...     [-1, 1, -1]  \n",
       "6         [0.10565836727619171, 0.10565836727619171]         [-1, 1]  \n",
       "7         [0.10565836727619171, 0.10565836727619171]         [1, -1]  \n",
       "8         [0.10565836727619171, 0.10565836727619171]         [-1, 1]  \n",
       "9         [0.10565836727619171, 0.10565836727619171]         [-1, 1]  "
      ]
     },
     "execution_count": 32,
     "metadata": {},
     "output_type": "execute_result"
    }
   ],
   "source": [
    "tree.arrays(library=\"pd\", entry_stop=10)"
   ]
  },
  {
   "cell_type": "markdown",
   "metadata": {},
   "source": [
    "## Histograms\n",
    "- Histograms are one of the most important tools in HEP. They describe the frequency distributions of a set of data points by dividing the entire range of values into a series of bins and counting how many data points fall into each interval.\n",
    "- In a ROOT file, we might also find objects of type `TH1F`, which are 1D histograms. We can access these object with Uproot, but we won't be able to display the histogram with just Uproot, which is why we can use some useful methods, most of which start with \"to\"."
   ]
  },
  {
   "cell_type": "code",
   "execution_count": 33,
   "metadata": {},
   "outputs": [
    {
     "data": {
      "text/plain": [
       "['ProcessID0;1', 'htime;1', 'T;1', 'hstat;1']"
      ]
     },
     "execution_count": 33,
     "metadata": {},
     "output_type": "execute_result"
    }
   ],
   "source": [
    "import matplotlib.pyplot as plt\n",
    "import skhep_testdata\n",
    "\n",
    "file_name = skhep_testdata.data_path(\"uproot-Event.root\")\n",
    "file = uproot.open(file_name)\n",
    "file.keys()"
   ]
  },
  {
   "cell_type": "code",
   "execution_count": 34,
   "metadata": {},
   "outputs": [
    {
     "data": {
      "text/plain": [
       "<TH1F (version 2) at 0x000169a47210>"
      ]
     },
     "execution_count": 34,
     "metadata": {},
     "output_type": "execute_result"
    }
   ],
   "source": [
    "h = file[\"hstat\"]\n",
    "h"
   ]
  },
  {
   "cell_type": "code",
   "execution_count": 35,
   "metadata": {},
   "outputs": [
    {
     "data": {
      "text/plain": [
       "[StairsArtists(stairs=<matplotlib.patches.StepPatch object at 0x169bedf50>, errorbar=<ErrorbarContainer object of 3 artists>, legend_artist=<ErrorbarContainer object of 3 artists>)]"
      ]
     },
     "execution_count": 35,
     "metadata": {},
     "output_type": "execute_result"
    },
    {
     "data": {
      "image/png": "[encoded data removed]",
      "text/plain": [
       "<Figure size 640x480 with 1 Axes>"
      ]
     },
     "metadata": {},
     "output_type": "display_data"
    }
   ],
   "source": [
    "h.to_hist().plot()"
   ]
  },
  {
   "cell_type": "code",
   "execution_count": 36,
   "metadata": {},
   "outputs": [
    {
     "data": {
      "text/plain": [
       "(array([14., 18., 14., 11., 15., 13., 12., 13.,  8.,  8.,  9., 10., 10.,\n",
       "         7.,  8., 10.,  8., 12.,  6.,  8.,  7.,  9., 10., 12., 10., 11.,\n",
       "        10., 10., 10.,  8., 14., 13.,  9.,  7., 12., 10.,  7.,  6.,  9.,\n",
       "        13., 11.,  8., 10.,  9.,  7.,  4.,  7., 10.,  8.,  8.,  9.,  9.,\n",
       "         7., 12., 11.,  9., 10.,  7., 10., 13., 13., 11.,  9.,  9.,  8.,\n",
       "         8., 10., 12.,  7.,  5.,  9., 10., 12., 13., 10., 14., 10., 10.,\n",
       "         8., 12., 12., 11., 16., 12.,  8., 12.,  7.,  9.,  9.,  7., 10.,\n",
       "         7., 11., 11.,  8., 13.,  9.,  8., 14., 16.], dtype=float32),\n",
       " array([0.  , 0.01, 0.02, 0.03, 0.04, 0.05, 0.06, 0.07, 0.08, 0.09, 0.1 ,\n",
       "        0.11, 0.12, 0.13, 0.14, 0.15, 0.16, 0.17, 0.18, 0.19, 0.2 , 0.21,\n",
       "        0.22, 0.23, 0.24, 0.25, 0.26, 0.27, 0.28, 0.29, 0.3 , 0.31, 0.32,\n",
       "        0.33, 0.34, 0.35, 0.36, 0.37, 0.38, 0.39, 0.4 , 0.41, 0.42, 0.43,\n",
       "        0.44, 0.45, 0.46, 0.47, 0.48, 0.49, 0.5 , 0.51, 0.52, 0.53, 0.54,\n",
       "        0.55, 0.56, 0.57, 0.58, 0.59, 0.6 , 0.61, 0.62, 0.63, 0.64, 0.65,\n",
       "        0.66, 0.67, 0.68, 0.69, 0.7 , 0.71, 0.72, 0.73, 0.74, 0.75, 0.76,\n",
       "        0.77, 0.78, 0.79, 0.8 , 0.81, 0.82, 0.83, 0.84, 0.85, 0.86, 0.87,\n",
       "        0.88, 0.89, 0.9 , 0.91, 0.92, 0.93, 0.94, 0.95, 0.96, 0.97, 0.98,\n",
       "        0.99, 1.  ]))"
      ]
     },
     "execution_count": 36,
     "metadata": {},
     "output_type": "execute_result"
    }
   ],
   "source": [
    "h.to_numpy()"
   ]
  },
  {
   "cell_type": "markdown",
   "metadata": {},
   "source": [
    "- We can also use Matplotlib, to plot the data we read from root files."
   ]
  },
  {
   "cell_type": "code",
   "execution_count": 37,
   "metadata": {},
   "outputs": [
    {
     "data": {
      "image/png": "[encoded data removed]",
      "text/plain": [
       "<Figure size 640x480 with 1 Axes>"
      ]
     },
     "metadata": {},
     "output_type": "display_data"
    }
   ],
   "source": [
    "# Doc: https://matplotlib.org/stable/api/_as_gen/matplotlib.pyplot.hist.html\n",
    "plt.hist(\n",
    "    branches[\"nMuon\"], \n",
    "    bins=40\n",
    "    # bins=np.arange(50)\n",
    ")\n",
    "\n",
    "plt.title(\"Number of Muons per Event\")\n",
    "plt.xlim((0, 10))\n",
    "plt.ylabel(\"Count\")\n",
    "plt.xlabel(\"Number of muons\")\n",
    "plt.show()"
   ]
  },
  {
   "cell_type": "code",
   "execution_count": 38,
   "metadata": {},
   "outputs": [
    {
     "name": "stdout",
     "output_type": "stream",
     "text": [
      "[3.21e+03, 1.34e+04, 4.9e+04, 2.17e+04, 8.02e+03, 2.75e+03, ..., 0, 0, 0, 0, 1]\n",
      "[0, 0.975, 1.95, 2.92, 3.9, 4.88, 5.85, ..., 33.1, 34.1, 35.1, 36.1, 37, 38, 39]\n"
     ]
    },
    {
     "data": {
      "image/png": "[encoded data removed]",
      "text/plain": [
       "<Figure size 640x480 with 1 Axes>"
      ]
     },
     "metadata": {},
     "output_type": "display_data"
    }
   ],
   "source": [
    "# Note that if the data has already been binned and counted, it might be better to use plt.stairs\n",
    "# Doc: https://matplotlib.org/stable/api/_as_gen/matplotlib.pyplot.stairs.html\n",
    "counts, bins = np.histogram(\n",
    "    branches[\"nMuon\"], \n",
    "    bins=40,\n",
    "    # bins=np.arange(40)\n",
    ")\n",
    "print(counts)\n",
    "print(bins)\n",
    "\n",
    "plt.stairs(\n",
    "    counts, \n",
    "    bins,\n",
    "    color=\"red\"\n",
    ")\n",
    "plt.title(\"Number of Muons per Event\")\n",
    "plt.xlim((0, 10))\n",
    "plt.ylabel(\"Count\")\n",
    "plt.xlabel(\"Number of muons\")\n",
    "plt.show()\n",
    "plt.show()"
   ]
  },
  {
   "cell_type": "markdown",
   "metadata": {},
   "source": [
    "- If the histograms we are trying to make is in the form of a jagged array, we would need to flatten it first."
   ]
  },
  {
   "cell_type": "code",
   "execution_count": 39,
   "metadata": {},
   "outputs": [
    {
     "data": {
      "text/html": [
       "<pre>[10.8,\n",
       " 15.7,\n",
       " 10.5,\n",
       " 16.3,\n",
       " 3.28,\n",
       " 11.4,\n",
       " 17.6,\n",
       " 9.62,\n",
       " 3.5,\n",
       " 3.28,\n",
       " ...,\n",
       " 43.9,\n",
       " 6.34,\n",
       " 6.98,\n",
       " 5.09,\n",
       " 3.31,\n",
       " 15.7,\n",
       " 11.4,\n",
       " 3.08,\n",
       " 4.97]\n",
       "----------------------\n",
       "type: 235286 * float32</pre>"
      ],
      "text/plain": [
       "<Array [10.8, 15.7, 10.5, 16.3, ..., 11.4, 3.08, 4.97] type='235286 * float32'>"
      ]
     },
     "execution_count": 39,
     "metadata": {},
     "output_type": "execute_result"
    }
   ],
   "source": [
    "ak.flatten(branches[\"Muon_pt\"])\n"
   ]
  },
  {
   "cell_type": "code",
   "execution_count": 40,
   "metadata": {},
   "outputs": [
    {
     "data": {
      "image/png": "[encoded data removed]",
      "text/plain": [
       "<Figure size 640x480 with 1 Axes>"
      ]
     },
     "metadata": {},
     "output_type": "display_data"
    }
   ],
   "source": [
    "plt.hist(\n",
    "    ak.flatten(branches[\"Muon_pt\"]),\n",
    "    bins=100,\n",
    "    range=(0,100)\n",
    ")\n",
    "plt.xlabel('Muon $p_{\\mathrm{T}}$ [GeV]')\n",
    "plt.ylabel('Number of muons / 1 GeV')\n",
    "# Sometimes it might be a bit more insightful to use logarithmic axis.\n",
    "# plt.yscale('log')\n",
    "plt.show()"
   ]
  },
  {
   "cell_type": "markdown",
   "metadata": {},
   "source": [
    "- One issue with logarithmic scales if applied to the x-axis is that the bin size is not made logarithmic as well. This produces weird looking plots like the one shown below."
   ]
  },
  {
   "cell_type": "code",
   "execution_count": 41,
   "metadata": {},
   "outputs": [
    {
     "data": {
      "image/png": "[encoded data removed]",
      "text/plain": [
       "<Figure size 640x480 with 1 Axes>"
      ]
     },
     "metadata": {},
     "output_type": "display_data"
    }
   ],
   "source": [
    "plt.hist(\n",
    "    ak.flatten(branches[\"Muon_pt\"]),\n",
    "    bins=100,\n",
    "    range=(0,100)\n",
    ")\n",
    "plt.xlabel('Muon $p_{\\mathrm{T}}$ [GeV]')\n",
    "plt.ylabel('Number of muons / 1 GeV')\n",
    "# Sometimes it might be a bit more insightful to use logarithmic axis.\n",
    "# plt.yscale('log')\n",
    "plt.xscale(\"log\")\n",
    "plt.show()"
   ]
  },
  {
   "cell_type": "markdown",
   "metadata": {},
   "source": [
    "- To fix this, we can use `np.logpsace`."
   ]
  },
  {
   "cell_type": "code",
   "execution_count": 42,
   "metadata": {},
   "outputs": [
    {
     "data": {
      "image/png": "[encoded data removed]",
      "text/plain": [
       "<Figure size 640x480 with 1 Axes>"
      ]
     },
     "metadata": {},
     "output_type": "display_data"
    }
   ],
   "source": [
    "plt.hist(\n",
    "    ak.flatten(branches['Muon_pt']),\n",
    "    bins=np.logspace(\n",
    "        np.log10(1), \n",
    "        np.log10(100), \n",
    "        100\n",
    "    ) # plt will use the values of this array to set the bin edges\n",
    ")\n",
    "plt.xlabel('Muon $p_{\\mathrm{T}}$ [GeV]')\n",
    "plt.xscale('log')\n",
    "plt.ylabel('Number of muons')\n",
    "plt.show()"
   ]
  },
  {
   "cell_type": "markdown",
   "metadata": {},
   "source": [
    "**Exercise:** Make a histogram of the eta of all muons."
   ]
  },
  {
   "cell_type": "code",
   "execution_count": 43,
   "metadata": {},
   "outputs": [
    {
     "data": {
      "image/png": "[encoded data removed]",
      "text/plain": [
       "<Figure size 640x480 with 1 Axes>"
      ]
     },
     "metadata": {},
     "output_type": "display_data"
    }
   ],
   "source": [
    "# Place your answer here\n",
    "plt.hist(ak.flatten(branches['Muon_eta']), bins=50, range=(-2.5, 2.5))\n",
    "plt.xlabel('Muon $\\eta$')\n",
    "plt.ylabel('Number of muons')\n",
    "plt.xlim(-3, 3)\n",
    "plt.show()"
   ]
  },
  {
   "cell_type": "markdown",
   "metadata": {},
   "source": [
    "## Columnar Analysis\n",
    "- Suppose you had an array of numbers and you wanted to check if each one of them is greater than, for instance, 25. If you are new to programming, you might think that the best way to do this might be by looping over each one of the elements. That works, but it is slow!\n",
    "- Packages like numpy (on which awkward and a whole host of packages) allows us to do *vectorized* operations.\n",
    "\n",
    "\n",
    "- Doing this this way is better in two primary ways:\n",
    "  - Higher performance\n",
    "  - Cleaner syntax\n",
    "- Here's an example. Suppose we want to see how many events have above 2 muons. We can do it two ways. You be the judge of which one is better for tackling this problem!"
   ]
  },
  {
   "cell_type": "code",
   "execution_count": 44,
   "metadata": {},
   "outputs": [
    {
     "name": "stdout",
     "output_type": "stream",
     "text": [
      "177 ms ± 533 µs per loop (mean ± std. dev. of 7 runs, 10 loops each)\n"
     ]
    }
   ],
   "source": [
    "%%timeit\n",
    "# Approach 1: Loops\n",
    "GT2Muons = []\n",
    "for nMuonsInEvent in branches[\"nMuon\"]:\n",
    "    GT2Muons.append(nMuonsInEvent > 0)\n",
    "\n",
    "nEventsGT2Muons = sum(GT2Muons)\n",
    "# print(\"Total number of events: \", len(GT2Muons))\n",
    "# print(\"Total number of events with nMuon > 2: \", nEventsGT2Muons)"
   ]
  },
  {
   "cell_type": "code",
   "execution_count": 45,
   "metadata": {},
   "outputs": [
    {
     "name": "stdout",
     "output_type": "stream",
     "text": [
      "107 ms ± 2.01 ms per loop (mean ± std. dev. of 7 runs, 10 loops each)\n"
     ]
    }
   ],
   "source": [
    "%%timeit\n",
    "# Approach 2: Vectorized operations\n",
    "GT2Muons = branches[\"nMuon\"] > 2\n",
    "sum(GT2Muons)"
   ]
  },
  {
   "cell_type": "markdown",
   "metadata": {},
   "source": [
    "- As you can see, the syntax is more straight-forward (it could've been done in a single line!), and the code is run *much* faster!\n",
    "- A vectorized approach also allows you to easily filter out events which don't meet some criteria defined by a \"mask\" (i.e. array of booleans). For instance, suppose we want to plot the $\\eta$ for all muons which belong to an event which has only 1 muon."
   ]
  },
  {
   "cell_type": "code",
   "execution_count": 46,
   "metadata": {},
   "outputs": [
    {
     "data": {
      "text/html": [
       "<pre>[False,\n",
       " False,\n",
       " True,\n",
       " False,\n",
       " False,\n",
       " False,\n",
       " False,\n",
       " False,\n",
       " False,\n",
       " False,\n",
       " ...,\n",
       " False,\n",
       " False,\n",
       " True,\n",
       " False,\n",
       " False,\n",
       " False,\n",
       " False,\n",
       " False,\n",
       " False]\n",
       "-------------------\n",
       "type: 100000 * bool</pre>"
      ],
      "text/plain": [
       "<Array [False, False, True, ..., False, False, False] type='100000 * bool'>"
      ]
     },
     "execution_count": 46,
     "metadata": {},
     "output_type": "execute_result"
    }
   ],
   "source": [
    "single_muon_mask = branches[\"nMuon\"] == 1\n",
    "single_muon_mask"
   ]
  },
  {
   "cell_type": "code",
   "execution_count": 47,
   "metadata": {},
   "outputs": [
    {
     "data": {
      "text/html": [
       "<pre>[[2.21],\n",
       " [1.19],\n",
       " [-0.59],\n",
       " [0.606],\n",
       " [0.453],\n",
       " [-1.29],\n",
       " [1.2],\n",
       " [1.02],\n",
       " [0.837],\n",
       " [-2.42],\n",
       " ...,\n",
       " [-0.175],\n",
       " [0.547],\n",
       " [0.533],\n",
       " [0.901],\n",
       " [0.86],\n",
       " [1.15],\n",
       " [-1.9],\n",
       " [-0.723],\n",
       " [1.12]]\n",
       "---------------------------\n",
       "type: 13447 * var * float32</pre>"
      ],
      "text/plain": [
       "<Array [[2.21], [1.19], ..., [-0.723], [1.12]] type='13447 * var * float32'>"
      ]
     },
     "execution_count": 47,
     "metadata": {},
     "output_type": "execute_result"
    }
   ],
   "source": [
    "muonEta_single = branches[\"Muon_eta\"][single_muon_mask]\n",
    "muonEta_single"
   ]
  },
  {
   "cell_type": "code",
   "execution_count": 48,
   "metadata": {},
   "outputs": [
    {
     "data": {
      "image/png": "[encoded data removed]",
      "text/plain": [
       "<Figure size 640x480 with 1 Axes>"
      ]
     },
     "metadata": {},
     "output_type": "display_data"
    }
   ],
   "source": [
    "plt.hist(\n",
    "    ak.flatten(muonEta_single),\n",
    "    bins=100\n",
    ")\n",
    "plt.xlabel('Muon $\\eta$')\n",
    "plt.ylabel('Number of muons')\n",
    "plt.xlim(-3, 3)\n",
    "plt.show()"
   ]
  },
  {
   "cell_type": "markdown",
   "metadata": {},
   "source": [
    "- As another example, suppose we want to plot all of the muons which have $|\\eta| < 2$. This can be done by applying the `abs` function to the array as a whole as follows."
   ]
  },
  {
   "cell_type": "code",
   "execution_count": 49,
   "metadata": {},
   "outputs": [
    {
     "data": {
      "text/html": [
       "<pre>[[True, True],\n",
       " [True, True],\n",
       " [False],\n",
       " [True, True, True, True],\n",
       " [False, False, True, True],\n",
       " [True, True, True],\n",
       " [True, True],\n",
       " [True, True],\n",
       " [True, True],\n",
       " [False, False],\n",
       " ...,\n",
       " [True, True, True],\n",
       " [True, False],\n",
       " [True],\n",
       " [],\n",
       " [True, True, True],\n",
       " [True, False],\n",
       " [True, True, True],\n",
       " [True, True],\n",
       " [True, True, True]]\n",
       "----------------------------\n",
       "type: 100000 * var * bool</pre>"
      ],
      "text/plain": [
       "<Array [[True, True], ..., [True, True, True]] type='100000 * var * bool'>"
      ]
     },
     "execution_count": 49,
     "metadata": {},
     "output_type": "execute_result"
    }
   ],
   "source": [
    "eta_mask = abs(branches[\"Muon_eta\"]) < 2\n",
    "eta_mask"
   ]
  },
  {
   "cell_type": "code",
   "execution_count": 50,
   "metadata": {},
   "outputs": [
    {
     "data": {
      "image/png": "[encoded data removed]",
      "text/plain": [
       "<Figure size 640x480 with 1 Axes>"
      ]
     },
     "metadata": {},
     "output_type": "display_data"
    }
   ],
   "source": [
    "# Applying this mask and plotting eta\n",
    "plt.hist(\n",
    "    ak.flatten(branches[\"Muon_eta\"][eta_mask]),\n",
    "    bins=100\n",
    ")\n",
    "plt.xlabel('Muon $\\eta$')\n",
    "plt.ylabel('Number of muons')\n",
    "plt.xlim(-3, 3)\n",
    "plt.show()"
   ]
  },
  {
   "cell_type": "markdown",
   "metadata": {},
   "source": [
    "- You can see that we have effectively sliced our plot such that there are zero entries beyond $|\\eta| < 2$.\n",
    "- Another operation which is very useful is the NOT operation. This can be applied to a whole mask all at once using the `~` operator. For instance:"
   ]
  },
  {
   "cell_type": "code",
   "execution_count": 51,
   "metadata": {},
   "outputs": [
    {
     "data": {
      "text/html": [
       "<pre>[False,\n",
       " False,\n",
       " True,\n",
       " False,\n",
       " False,\n",
       " False,\n",
       " False,\n",
       " False,\n",
       " False,\n",
       " False,\n",
       " ...,\n",
       " False,\n",
       " False,\n",
       " True,\n",
       " False,\n",
       " False,\n",
       " False,\n",
       " False,\n",
       " False,\n",
       " False]\n",
       "-------------------\n",
       "type: 100000 * bool</pre>"
      ],
      "text/plain": [
       "<Array [False, False, True, ..., False, False, False] type='100000 * bool'>"
      ]
     },
     "execution_count": 51,
     "metadata": {},
     "output_type": "execute_result"
    }
   ],
   "source": [
    "single_muon_mask"
   ]
  },
  {
   "cell_type": "code",
   "execution_count": 52,
   "metadata": {},
   "outputs": [
    {
     "data": {
      "text/html": [
       "<pre>[True,\n",
       " True,\n",
       " False,\n",
       " True,\n",
       " True,\n",
       " True,\n",
       " True,\n",
       " True,\n",
       " True,\n",
       " True,\n",
       " ...,\n",
       " True,\n",
       " True,\n",
       " False,\n",
       " True,\n",
       " True,\n",
       " True,\n",
       " True,\n",
       " True,\n",
       " True]\n",
       "-------------------\n",
       "type: 100000 * bool</pre>"
      ],
      "text/plain": [
       "<Array [True, True, False, True, ..., True, True, True] type='100000 * bool'>"
      ]
     },
     "execution_count": 52,
     "metadata": {},
     "output_type": "execute_result"
    }
   ],
   "source": [
    "~single_muon_mask"
   ]
  },
  {
   "cell_type": "markdown",
   "metadata": {},
   "source": [
    "- You can also do the AND or OR operation between to masks. Keep in mind that the dimensions need to be the same in order for this to be possible, as the AND/OR operator requires two inputs."
   ]
  },
  {
   "cell_type": "code",
   "execution_count": 53,
   "metadata": {},
   "outputs": [
    {
     "data": {
      "text/html": [
       "<pre>[[False, False],\n",
       " [False, False],\n",
       " [False],\n",
       " [False, False, False, False],\n",
       " [False, False, False, False],\n",
       " [False, False, False],\n",
       " [False, False],\n",
       " [False, False],\n",
       " [False, False],\n",
       " [False, False],\n",
       " ...,\n",
       " [False, False, False],\n",
       " [False, False],\n",
       " [True],\n",
       " [],\n",
       " [False, False, False],\n",
       " [False, False],\n",
       " [False, False, False],\n",
       " [False, False],\n",
       " [False, False, False]]\n",
       "------------------------------\n",
       "type: 100000 * var * bool</pre>"
      ],
      "text/plain": [
       "<Array [[False, False], ..., [False, ..., False]] type='100000 * var * bool'>"
      ]
     },
     "execution_count": 53,
     "metadata": {},
     "output_type": "execute_result"
    }
   ],
   "source": [
    "# AND\n",
    "single_muon_mask & eta_mask"
   ]
  },
  {
   "cell_type": "code",
   "execution_count": 54,
   "metadata": {},
   "outputs": [
    {
     "data": {
      "text/html": [
       "<pre>[[True, True],\n",
       " [True, True],\n",
       " [True],\n",
       " [True, True, True, True],\n",
       " [False, False, True, True],\n",
       " [True, True, True],\n",
       " [True, True],\n",
       " [True, True],\n",
       " [True, True],\n",
       " [False, False],\n",
       " ...,\n",
       " [True, True, True],\n",
       " [True, False],\n",
       " [True],\n",
       " [],\n",
       " [True, True, True],\n",
       " [True, False],\n",
       " [True, True, True],\n",
       " [True, True],\n",
       " [True, True, True]]\n",
       "----------------------------\n",
       "type: 100000 * var * bool</pre>"
      ],
      "text/plain": [
       "<Array [[True, True], ..., [True, True, True]] type='100000 * var * bool'>"
      ]
     },
     "execution_count": 54,
     "metadata": {},
     "output_type": "execute_result"
    }
   ],
   "source": [
    "# OR\n",
    "single_muon_mask | eta_mask"
   ]
  },
  {
   "cell_type": "markdown",
   "metadata": {},
   "source": [
    "- Keep in mind that you need to be careful about performing a series of these operations, as the order of operations might be different from what you might expect. Just keep in mind that `&` and `|` has a higher precedence than `==`. Or, you can just make things unambigous for yourself by using parenthesis around the operations which you want to be performed first. E.g."
   ]
  },
  {
   "cell_type": "code",
   "execution_count": 55,
   "metadata": {},
   "outputs": [
    {
     "data": {
      "text/plain": [
       "False"
      ]
     },
     "execution_count": 55,
     "metadata": {},
     "output_type": "execute_result"
    }
   ],
   "source": [
    "# Intended\n",
    "(False == False) & False"
   ]
  },
  {
   "cell_type": "code",
   "execution_count": 56,
   "metadata": {},
   "outputs": [
    {
     "data": {
      "text/plain": [
       "True"
      ]
     },
     "execution_count": 56,
     "metadata": {},
     "output_type": "execute_result"
    }
   ],
   "source": [
    "# Not what we intended\n",
    "False == False & False"
   ]
  },
  {
   "cell_type": "markdown",
   "metadata": {},
   "source": [
    "- Now that we know how to apply masks, lets combine this with our knowledge of histograms and compare plots when we apply differing selections."
   ]
  },
  {
   "cell_type": "code",
   "execution_count": 57,
   "metadata": {},
   "outputs": [
    {
     "data": {
      "image/png": "[encoded data removed]",
      "text/plain": [
       "<Figure size 640x480 with 1 Axes>"
      ]
     },
     "metadata": {},
     "output_type": "display_data"
    }
   ],
   "source": [
    "plt.hist(\n",
    "    [ak.flatten(branches['Muon_pt'][single_muon_mask & eta_mask]),\n",
    "    ak.flatten(branches['Muon_pt'][single_muon_mask & ~eta_mask])],\n",
    "    bins=25, \n",
    "    range=(0, 50),\n",
    "    histtype=\"step\",\n",
    "    density=True # Option which normalizes the integral of each historgram\n",
    ")\n",
    "plt.xlabel('Muon $p_{\\mathrm{T}}$ [GeV]')\n",
    "plt.ylabel('Number of single muons / 2 GeV')\n",
    "plt.show()"
   ]
  },
  {
   "cell_type": "markdown",
   "metadata": {},
   "source": [
    "## Getting Physics-Related Information\n",
    "- Let's use what we have learned so far to get some physical insight into our data.\n",
    "- Many mesons and bosons have a di-muon decay channel. For instance, $Z$ boson can decay into two muons.\n",
    "\n",
    "![etadimuon](./assets/Zdimuon.png)\n",
    "\n",
    "- In order for a process like this to happen, certain conditions must be met such as charge conservation and 4-momentum conservation. If we wanted to measure the mass of those particles which produce two muons, we could use this to our advantage by demanding that all events under consideration have, for instance, at least two muons and that those two muons have opposite charges.\n",
    "- Let's start simple: we want events with exactly two muons"
   ]
  },
  {
   "cell_type": "code",
   "execution_count": 58,
   "metadata": {},
   "outputs": [],
   "source": [
    "two_muon_mask = branches[\"nMuon\"] == 2"
   ]
  },
  {
   "cell_type": "markdown",
   "metadata": {},
   "source": [
    "- Now we want to work with the 4-momentum of the muons. For this, we can use a handy library called vector which allows us to construct 4-vectors and perform operations between them, as well as compute other derived quantities from them easily."
   ]
  },
  {
   "cell_type": "code",
   "execution_count": 59,
   "metadata": {},
   "outputs": [],
   "source": [
    "import vector"
   ]
  },
  {
   "cell_type": "code",
   "execution_count": 60,
   "metadata": {},
   "outputs": [],
   "source": [
    "muon_p4 = vector.zip(\n",
    "    {\n",
    "        \"pt\": branches[\"Muon_pt\"],\n",
    "        \"eta\": branches[\"Muon_eta\"],\n",
    "        \"phi\": branches[\"Muon_phi\"],\n",
    "        \"mass\": branches[\"Muon_mass\"]\n",
    "    }\n",
    ")"
   ]
  },
  {
   "cell_type": "code",
   "execution_count": 61,
   "metadata": {},
   "outputs": [
    {
     "data": {
      "text/html": [
       "<pre>[[{rho: 10.8, phi: -0.0343, eta: 1.07, tau: 0.106}, {rho: 15.7, ...}],\n",
       " [{rho: 10.5, phi: -0.275, eta: -0.428, tau: 0.106}, {rho: 16.3, ...}],\n",
       " [{rho: 3.28, phi: -1.22, eta: 2.21, tau: 0.106}],\n",
       " [{rho: 11.4, phi: -2.08, eta: -1.59, tau: 0.106}, {...}, ..., {rho: 3.5, ...}],\n",
       " [{rho: 3.28, phi: -2.37, eta: -2.17, tau: 0.106}, ..., {rho: 23.7, ...}],\n",
       " [{rho: 3.57, phi: -2.91, eta: -1.37, tau: 0.106}, ..., {rho: 4.37, ...}],\n",
       " [{rho: 57.6, phi: -0.0718, eta: -0.532, tau: 0.106}, {rho: 53, ...}],\n",
       " [{rho: 11.3, phi: -2.25, eta: -0.772, tau: 0.106}, {rho: 23.9, ...}],\n",
       " [{rho: 10.2, phi: 0.678, eta: 0.442, tau: 0.106}, {rho: 14.2, ...}],\n",
       " [{rho: 11.5, phi: 3.13, eta: 2.34, tau: 0.106}, {rho: 3.47, ...}],\n",
       " ...,\n",
       " [{rho: 17.3, phi: 2.01, eta: 0.455, tau: 0.106}, {...}, {rho: 5.96, ...}],\n",
       " [{rho: 9.58, phi: -0.227, eta: -1.51, tau: 0.106}, {rho: 3.33, ...}],\n",
       " [{rho: 9.48, phi: 0.85, eta: 1.12, tau: 0.106}],\n",
       " [],\n",
       " [{rho: 30.3, phi: 1.25, eta: 0.262, tau: 0.106}, {...}, {rho: 6.69, ...}],\n",
       " [{rho: 46.4, phi: -2.38, eta: -1.93, tau: 0.106}, {rho: 43.9, ...}],\n",
       " [{rho: 6.34, phi: -2.95, eta: -0.599, tau: 0.106}, ..., {rho: 5.09, ...}],\n",
       " [{rho: 3.31, phi: 0.88, eta: 1.64, tau: 0.106}, {rho: 15.7, ...}],\n",
       " [{rho: 11.4, phi: -0.479, eta: 0.444, tau: 0.106}, ..., {rho: 4.97, ...}]]\n",
       "--------------------------------------------------------------------------------\n",
       "type: 100000 * var * Momentum4D[\n",
       "    rho: float32,\n",
       "    phi: float32,\n",
       "    eta: float32,\n",
       "    tau: float32\n",
       "]</pre>"
      ],
      "text/plain": [
       "<MomentumArray4D [[{rho: 10.8, phi: ..., ...}, ...], ...] type='100000 * va...'>"
      ]
     },
     "execution_count": 61,
     "metadata": {},
     "output_type": "execute_result"
    }
   ],
   "source": [
    "muon_p4"
   ]
  },
  {
   "cell_type": "markdown",
   "metadata": {},
   "source": [
    "- We now apply the mask to keep only those events with exactly two muons."
   ]
  },
  {
   "cell_type": "code",
   "execution_count": 62,
   "metadata": {},
   "outputs": [
    {
     "data": {
      "text/html": [
       "<pre>[[{rho: 10.8, phi: -0.0343, eta: 1.07, tau: 0.106}, {rho: 15.7, ...}],\n",
       " [{rho: 10.5, phi: -0.275, eta: -0.428, tau: 0.106}, {rho: 16.3, ...}],\n",
       " [{rho: 57.6, phi: -0.0718, eta: -0.532, tau: 0.106}, {rho: 53, ...}],\n",
       " [{rho: 11.3, phi: -2.25, eta: -0.772, tau: 0.106}, {rho: 23.9, ...}],\n",
       " [{rho: 10.2, phi: 0.678, eta: 0.442, tau: 0.106}, {rho: 14.2, ...}],\n",
       " [{rho: 11.5, phi: 3.13, eta: 2.34, tau: 0.106}, {rho: 3.47, ...}],\n",
       " [{rho: 8.82, phi: -3.07, eta: 1.65, tau: 0.106}, {rho: 17.6, ...}],\n",
       " [{rho: 14.6, phi: 1, eta: 1.26, tau: 0.106}, {rho: 12.3, phi: ..., ...}],\n",
       " [{rho: 4.34, phi: 1.85, eta: -1.88, tau: 0.106}, {rho: 13.1, ...}],\n",
       " [{rho: 15.2, phi: 0.421, eta: 1.34, tau: 0.106}, {rho: 10.5, ...}],\n",
       " ...,\n",
       " [{rho: 8.21, phi: 0.786, eta: -1.85, tau: 0.106}, {rho: 17, ...}],\n",
       " [{rho: 13.6, phi: -2.48, eta: 0.242, tau: 0.106}, {rho: 8.88, ...}],\n",
       " [{rho: 5.04, phi: -2.22, eta: 2.02, tau: 0.106}, {rho: 9.27, ...}],\n",
       " [{rho: 36.6, phi: -1.95, eta: -1.29, tau: 0.106}, {rho: 5.31, ...}],\n",
       " [{rho: 10.5, phi: -1.47, eta: 0.158, tau: 0.106}, {rho: 13.5, ...}],\n",
       " [{rho: 39.1, phi: -2.55, eta: 1.99, tau: 0.106}, {rho: 54.8, ...}],\n",
       " [{rho: 9.58, phi: -0.227, eta: -1.51, tau: 0.106}, {rho: 3.33, ...}],\n",
       " [{rho: 46.4, phi: -2.38, eta: -1.93, tau: 0.106}, {rho: 43.9, ...}],\n",
       " [{rho: 3.31, phi: 0.88, eta: 1.64, tau: 0.106}, {rho: 15.7, ...}]]\n",
       "--------------------------------------------------------------------------\n",
       "type: 48976 * var * Momentum4D[\n",
       "    rho: float32,\n",
       "    phi: float32,\n",
       "    eta: float32,\n",
       "    tau: float32\n",
       "]</pre>"
      ],
      "text/plain": [
       "<MomentumArray4D [[{rho: 10.8, phi: ..., ...}, ...], ...] type='48976 * var...'>"
      ]
     },
     "execution_count": 62,
     "metadata": {},
     "output_type": "execute_result"
    }
   ],
   "source": [
    "two_muons_p4 = muon_p4[two_muon_mask]\n",
    "two_muons_p4"
   ]
  },
  {
   "cell_type": "code",
   "execution_count": 63,
   "metadata": {},
   "outputs": [
    {
     "data": {
      "text/plain": [
       "vector.backends.awkward.MomentumArray4D"
      ]
     },
     "execution_count": 63,
     "metadata": {},
     "output_type": "execute_result"
    }
   ],
   "source": [
    "type(muon_p4)"
   ]
  },
  {
   "cell_type": "markdown",
   "metadata": {},
   "source": [
    "- Note that from this type of object we can obtain quantities that are derived from the inputs we gave it as we were declaring it."
   ]
  },
  {
   "cell_type": "code",
   "execution_count": 64,
   "metadata": {},
   "outputs": [
    {
     "data": {
      "text/html": [
       "<pre>[[10.8, 15.7],\n",
       " [10.5, 16.3],\n",
       " [57.6, 53],\n",
       " [11.3, 23.9],\n",
       " [10.2, 14.2],\n",
       " [11.5, 3.47],\n",
       " [8.82, 17.6],\n",
       " [14.6, 12.3],\n",
       " [4.34, 13.1],\n",
       " [15.2, 10.5],\n",
       " ...,\n",
       " [8.21, 17],\n",
       " [13.6, 8.88],\n",
       " [5.04, 9.27],\n",
       " [36.6, 5.31],\n",
       " [10.5, 13.5],\n",
       " [39.1, 54.8],\n",
       " [9.58, 3.33],\n",
       " [46.4, 43.9],\n",
       " [3.31, 15.7]]\n",
       "---------------------------\n",
       "type: 48976 * var * float32</pre>"
      ],
      "text/plain": [
       "<Array [[10.8, 15.7], [...], ..., [3.31, 15.7]] type='48976 * var * float32'>"
      ]
     },
     "execution_count": 64,
     "metadata": {},
     "output_type": "execute_result"
    }
   ],
   "source": [
    "two_muons_p4.pt"
   ]
  },
  {
   "cell_type": "code",
   "execution_count": 65,
   "metadata": {},
   "outputs": [
    {
     "data": {
      "text/html": [
       "<pre>[[17.5, 18.3],\n",
       " [11.5, 17.3],\n",
       " [66, 82.1],\n",
       " [14.9, 30],\n",
       " [11.2, 17.9],\n",
       " [60.2, 18.4],\n",
       " [23.8, 22.3],\n",
       " [27.8, 24.2],\n",
       " [14.6, 49.4],\n",
       " [30.9, 19.2],\n",
       " ...,\n",
       " [26.8, 69.7],\n",
       " [14, 9.21],\n",
       " [19.2, 17.1],\n",
       " [71.3, 11.1],\n",
       " [10.6, 13.6],\n",
       " [146, 109],\n",
       " [22.8, 15.2],\n",
       " [163, 215],\n",
       " [8.82, 17.5]]\n",
       "---------------------------\n",
       "type: 48976 * var * float32</pre>"
      ],
      "text/plain": [
       "<Array [[17.5, 18.3], [...], ..., [8.82, 17.5]] type='48976 * var * float32'>"
      ]
     },
     "execution_count": 65,
     "metadata": {},
     "output_type": "execute_result"
    }
   ],
   "source": [
    "two_muons_p4.E"
   ]
  },
  {
   "cell_type": "markdown",
   "metadata": {},
   "source": [
    "- Because what we want is to find the invariant mass of the two muons in each event, we sum the 4-momentum of both muons in each event together. "
   ]
  },
  {
   "cell_type": "code",
   "execution_count": 66,
   "metadata": {},
   "outputs": [
    {
     "data": {
      "text/html": [
       "<pre>[{rho: 8.79, phi: 1.83, eta: 0.486, tau: 34.4},\n",
       " {rho: 7.19, phi: 2.05, eta: 0.162, tau: 27.9},\n",
       " {rho: 4.69, phi: -0.297, eta: -3.7, tau: 114},\n",
       " {rho: 35.2, phi: -2.2, eta: -0.724, tau: 1.59},\n",
       " {rho: 6.51, phi: -1.32, eta: 1.6, tau: 23.7},\n",
       " {rho: 14.9, phi: 3.11, eta: 2.35, tau: 0.738},\n",
       " {rho: 10.5, phi: -0.77, eta: 1.94, tau: 27.1},\n",
       " {rho: 23.8, phi: 0.559, eta: 0.118, tau: 46.2},\n",
       " {rho: 17.4, phi: 1.73, eta: -1.97, tau: 1.57},\n",
       " {rho: 25.7, phi: 0.426, eta: 1.29, tau: 1.64},\n",
       " ...,\n",
       " {rho: 14.5, phi: 2.42, eta: -2.56, tau: 20.9},\n",
       " {rho: 6.23, phi: -1.94, eta: 0.144, tau: 22.3},\n",
       " {rho: 4.29, phi: 0.694, eta: 2.74, tau: 14.7},\n",
       " {rho: 41.8, phi: -1.98, eta: -1.3, tau: 3.63},\n",
       " {rho: 24, phi: -1.53, eta: 0.112, tau: 1.6},\n",
       " {rho: 30.6, phi: 1.94, eta: 2.73, tau: 94.4},\n",
       " {rho: 7.24, phi: -0.512, eta: -0.739, tau: 36.9},\n",
       " {rho: 4.98, phi: 2.9, eta: -4.99, tau: 91.5},\n",
       " {rho: 12.9, phi: -1.63, eta: 1.04, tau: 16.5}]\n",
       "--------------------------------------------------\n",
       "type: 48976 * Momentum4D[\n",
       "    rho: float32,\n",
       "    phi: float32,\n",
       "    eta: float32,\n",
       "    tau: float32\n",
       "]</pre>"
      ],
      "text/plain": [
       "<MomentumArray4D [{rho: 8.79, phi: 1.83, ...}, ...] type='48976 * Momentum4...'>"
      ]
     },
     "execution_count": 66,
     "metadata": {},
     "output_type": "execute_result"
    }
   ],
   "source": [
    "sum_p4 = two_muons_p4[:, 0] + two_muons_p4[:, 1]\n",
    "sum_p4 # Also a 4-momentum object"
   ]
  },
  {
   "cell_type": "markdown",
   "metadata": {},
   "source": [
    "- This gives us the invariant mass already."
   ]
  },
  {
   "cell_type": "code",
   "execution_count": 67,
   "metadata": {},
   "outputs": [
    {
     "data": {
      "text/html": [
       "<pre>[34.4,\n",
       " 27.9,\n",
       " 114,\n",
       " 1.59,\n",
       " 23.7,\n",
       " 0.738,\n",
       " 27.1,\n",
       " 46.2,\n",
       " 1.57,\n",
       " 1.64,\n",
       " ...,\n",
       " 20.9,\n",
       " 22.3,\n",
       " 14.7,\n",
       " 3.63,\n",
       " 1.6,\n",
       " 94.4,\n",
       " 36.9,\n",
       " 91.5,\n",
       " 16.5]\n",
       "---------------------\n",
       "type: 48976 * float32</pre>"
      ],
      "text/plain": [
       "<Array [34.4, 27.9, 114, 1.59, ..., 36.9, 91.5, 16.5] type='48976 * float32'>"
      ]
     },
     "execution_count": 67,
     "metadata": {},
     "output_type": "execute_result"
    }
   ],
   "source": [
    "sum_p4.mass"
   ]
  },
  {
   "cell_type": "markdown",
   "metadata": {},
   "source": [
    "- But not so fast... How do we know that charge conservation is not being violated? For that, we can create a mask from `branch[\"Muon_charge]` which ensure the charges are opposite between the two muons!"
   ]
  },
  {
   "cell_type": "code",
   "execution_count": 68,
   "metadata": {},
   "outputs": [
    {
     "data": {
      "text/html": [
       "<pre>[False,\n",
       " True,\n",
       " True,\n",
       " True,\n",
       " True,\n",
       " True,\n",
       " True,\n",
       " False,\n",
       " True,\n",
       " True,\n",
       " ...,\n",
       " True,\n",
       " True,\n",
       " False,\n",
       " True,\n",
       " True,\n",
       " True,\n",
       " False,\n",
       " True,\n",
       " True]\n",
       "------------------\n",
       "type: 48976 * bool</pre>"
      ],
      "text/plain": [
       "<Array [False, True, True, True, ..., False, True, True] type='48976 * bool'>"
      ]
     },
     "execution_count": 68,
     "metadata": {},
     "output_type": "execute_result"
    }
   ],
   "source": [
    "# We get only those events with two muons\n",
    "two_muon_events_q = branches[\"Muon_charge\"][two_muon_mask]\n",
    "\n",
    "# We make sure those two muons have opposite charges\n",
    "opposite_sign_muons_mask = ((two_muon_events_q[:, 0] + two_muon_events_q[:, 1]) == 0)\n",
    "opposite_sign_muons_mask"
   ]
  },
  {
   "cell_type": "code",
   "execution_count": 69,
   "metadata": {},
   "outputs": [],
   "source": [
    "dimuon_p4 = sum_p4[opposite_sign_muons_mask]"
   ]
  },
  {
   "cell_type": "markdown",
   "metadata": {},
   "source": [
    "- We finally have our invariant masses (from dimuon events with opposite charges)! We could have done more to clean up the events, but this is already enough to get some interesting results. Lets plot a histogram of the invariant masses and see what we get!"
   ]
  },
  {
   "cell_type": "code",
   "execution_count": 78,
   "metadata": {},
   "outputs": [
    {
     "data": {
      "image/png": "[encoded data removed]",
      "text/plain": [
       "<Figure size 640x480 with 1 Axes>"
      ]
     },
     "metadata": {},
     "output_type": "display_data"
    }
   ],
   "source": [
    "plt.hist(\n",
    "    dimuon_p4.mass, \n",
    "    histtype=\"step\", \n",
    "    bins=np.logspace(\n",
    "        np.log10(0.1), \n",
    "        np.log10(1000), \n",
    "        200)\n",
    "    )\n",
    "plt.xscale(\"log\")\n",
    "plt.yscale(\"log\")\n",
    "plt.xlabel('Dimuon invariant mass [GeV]')\n",
    "plt.ylabel('Number of dimuon events')\n",
    "plt.show()"
   ]
  },
  {
   "cell_type": "markdown",
   "metadata": {},
   "source": [
    "- In this plot, we can see some see peaks corresponding to particles which decay into two muons.\n",
    "\n",
    "![dimuonspectrumplt](./assets/dimuonspectrumplt.png)"
   ]
  },
  {
   "cell_type": "markdown",
   "metadata": {},
   "source": [
    "We can compute $\\Delta R$ which is a measure of the distance of two particles in the detector's pseudoriapidity-azimuthal angle space. It is defined as\n",
    "$$\n",
    "    \\Delta R = \\sqrt{(\\Delta \\eta)^2 + (\\Delta \\phi)^2}\n",
    "$$\n",
    "If two muons are produced by the same physical process, we would expect them to be close to each other and thus have a small $\\Delta R$. However, if we plot the $\\Delta R$ of the muons we obtained, we get the following."
   ]
  },
  {
   "cell_type": "code",
   "execution_count": null,
   "metadata": {},
   "outputs": [],
   "source": [
    "two_muons_p4_oppq = two_muons_p4[opposite_sign_muons_mask]\n",
    "two_muons_p4_oppq[0]"
   ]
  },
  {
   "cell_type": "code",
   "execution_count": null,
   "metadata": {},
   "outputs": [],
   "source": [
    "plt.hist(\n",
    "    two_muons_p4_oppq[:,0].deltaR(two_muons_p4_oppq[:,1]),\n",
    "    bins=100,\n",
    "    histtype=\"step\"\n",
    ")\n",
    "plt.show()"
   ]
  },
  {
   "cell_type": "markdown",
   "metadata": {},
   "source": [
    "From this plot, it is evident that our data is clearly contaminated. \n",
    "\n",
    "**Exercise:** Clean up the data even further and plot the mass spectrum once again."
   ]
  },
  {
   "cell_type": "code",
   "execution_count": null,
   "metadata": {},
   "outputs": [],
   "source": [
    "# Your answer here\n",
    "close_muons = two_muons_p4_oppq[:,0].deltaR(two_muons_p4_oppq[:,1]) < 0.5\n",
    "dimuon_p4_close = dimuon_p4[close_muons]\n",
    "\n",
    "plt.hist(\n",
    "    dimuon_p4_close.mass, \n",
    "    histtype=\"step\", \n",
    "    bins=np.logspace(\n",
    "        np.log10(0.1), \n",
    "        np.log10(1000), \n",
    "        200)\n",
    "    )\n",
    "plt.xscale(\"log\")\n",
    "plt.yscale(\"log\")\n",
    "plt.xlabel('Dimuon invariant mass [GeV]')\n",
    "plt.ylabel('Number of dimuon events')\n",
    "plt.show()"
   ]
  },
  {
   "cell_type": "markdown",
   "metadata": {},
   "source": [
    "Answer: \n",
    "1. Can you still see each of the peaks? If no, why do you think that is? \n",
    "2. Did we suppress any of the peaks that were visible before? What does that tell us about that corresponding particle's dimuon decay channel?\n",
    "3. In the $\\Delta R$ plot we saw a second peak at ~3. What do you think this peak corresponds to? Plot the mass spectrum histogram again, but considering only dimuons that are far away."
   ]
  },
  {
   "cell_type": "code",
   "execution_count": null,
   "metadata": {},
   "outputs": [],
   "source": [
    "# Your answer here\n",
    "close_muons = two_muons_p4_oppq[:,0].deltaR(two_muons_p4_oppq[:,1]) > 1.5\n",
    "dimuon_p4_far = dimuon_p4[close_muons]\n",
    "\n",
    "plt.hist(\n",
    "    dimuon_p4_far.mass, \n",
    "    histtype=\"step\", \n",
    "    bins=np.logspace(\n",
    "        np.log10(0.1), \n",
    "        np.log10(1000), \n",
    "        200)\n",
    "    )\n",
    "plt.xscale(\"log\")\n",
    "plt.yscale(\"log\")\n",
    "plt.xlabel('Dimuon invariant mass [GeV]')\n",
    "plt.ylabel('Number of dimuon events')\n",
    "plt.show()"
   ]
  },
  {
   "cell_type": "markdown",
   "metadata": {},
   "source": []
  }
 ],
 "metadata": {
  "kernelspec": {
   "display_name": "Python 3 (ipykernel)",
   "language": "python",
   "name": "python3"
  },
  "language_info": {
   "codemirror_mode": {
    "name": "ipython",
    "version": 3
   },
   "file_extension": ".py",
   "mimetype": "text/x-python",
   "name": "python",
   "nbconvert_exporter": "python",
   "pygments_lexer": "ipython3",
   "version": "3.11.6"
  }
 },
 "nbformat": 4,
 "nbformat_minor": 2
}
