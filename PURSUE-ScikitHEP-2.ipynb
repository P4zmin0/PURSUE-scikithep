{
 "cells": [
  {
   "cell_type": "markdown",
   "metadata": {},
   "source": [
    "# PURSUE Scikit-HEP Session Lecture Notebook (Part 2)\n",
    "\n",
    "## Introduction\n",
    "- In this notebook we will have a look at other useful libraries offered by Scikit-HEP, as well as taking a dive into more advanced topics beyond I/O with root files, slicing, filtering, and plotting data.\n",
    "\n",
    "## Combinatronics\n",
    "- Suppose you are are searching for a particular signal: two muons with opposite charge. There's one issue though: there might be events with any number of positive and negative muons. How do you know that any combination of them correspond to the final state of the particular signal you are looking for. This is not immediately known!\n",
    "- A power technique which is enabled by the tools offered in Scikit-HEP is to use combinatronics: consider every possible combination of oppositely charged muons and select those which meet some other selection criteria consistent with your signal of interest!\n",
    "- Let's see what combinatronics is about. Suppose you have the following two arrays."
   ]
  },
  {
   "cell_type": "code",
   "execution_count": 1,
   "metadata": {},
   "outputs": [],
   "source": [
    "import awkward as ak"
   ]
  },
  {
   "cell_type": "code",
   "execution_count": 2,
   "metadata": {},
   "outputs": [],
   "source": [
    "numbers = ak.Array([[1, 2, 3], [], [5, 7], [11]])\n",
    "letters = ak.Array([[\"a\", \"b\"], [\"c\"], [\"d\"], [\"e\", \"f\"]])"
   ]
  },
  {
   "cell_type": "markdown",
   "metadata": {},
   "source": [
    "- The function `ak.cartesian` gives us the cartesian product of two arrays. If we use it to take the cartesian product of `numbers` and `letters`, we are given an array of the cartesian product of each of the sub-arrays of one of the arrays with the corresponding sub-array in the other."
   ]
  },
  {
   "cell_type": "code",
   "execution_count": 3,
   "metadata": {},
   "outputs": [
    {
     "data": {
      "text/html": [
       "<pre>[[(1, &#x27;a&#x27;), (1, &#x27;b&#x27;), (2, &#x27;a&#x27;), (2, &#x27;b&#x27;), (3, &#x27;a&#x27;), (3, &#x27;b&#x27;)],\n",
       " [],\n",
       " [(5, &#x27;d&#x27;), (7, &#x27;d&#x27;)],\n",
       " [(11, &#x27;e&#x27;), (11, &#x27;f&#x27;)]]\n",
       "--------------------------------------------------------------\n",
       "type: 4 * var * (\n",
       "    int64,\n",
       "    string\n",
       ")</pre>"
      ],
      "text/plain": [
       "<Array [[(1, 'a'), (...), ..., (3, 'b')], ...] type='4 * var * (int64, string)'>"
      ]
     },
     "execution_count": 3,
     "metadata": {},
     "output_type": "execute_result"
    }
   ],
   "source": [
    "pairs = ak.cartesian((numbers, letters))\n",
    "pairs"
   ]
  },
  {
   "cell_type": "markdown",
   "metadata": {},
   "source": [
    "- We can access the objects inside this Awkard array multiple ways. For example, we can slice using strings"
   ]
  },
  {
   "cell_type": "code",
   "execution_count": 4,
   "metadata": {},
   "outputs": [
    {
     "data": {
      "text/html": [
       "<pre>[[1, 1, 2, 2, 3, 3],\n",
       " [],\n",
       " [5, 7],\n",
       " [11, 11]]\n",
       "---------------------\n",
       "type: 4 * var * int64</pre>"
      ],
      "text/plain": [
       "<Array [[1, 1, 2, 2, 3, 3], [], [5, ...], [11, 11]] type='4 * var * int64'>"
      ]
     },
     "execution_count": 4,
     "metadata": {},
     "output_type": "execute_result"
    }
   ],
   "source": [
    "pairs[\"0\"]"
   ]
  },
  {
   "cell_type": "code",
   "execution_count": 5,
   "metadata": {},
   "outputs": [
    {
     "data": {
      "text/html": [
       "<pre>[[&#x27;a&#x27;, &#x27;b&#x27;, &#x27;a&#x27;, &#x27;b&#x27;, &#x27;a&#x27;, &#x27;b&#x27;],\n",
       " [],\n",
       " [&#x27;d&#x27;, &#x27;d&#x27;],\n",
       " [&#x27;e&#x27;, &#x27;f&#x27;]]\n",
       "--------------------------------\n",
       "type: 4 * var * string</pre>"
      ],
      "text/plain": [
       "<Array [['a', 'b', 'a', 'b', 'a', 'b'], [], ..., [...]] type='4 * var * string'>"
      ]
     },
     "execution_count": 5,
     "metadata": {},
     "output_type": "execute_result"
    }
   ],
   "source": [
    "pairs[\"1\"]"
   ]
  },
  {
   "cell_type": "markdown",
   "metadata": {},
   "source": [
    "- But we can also use the function `ak.unzip` to extract every field into its own separate array."
   ]
  },
  {
   "cell_type": "code",
   "execution_count": 6,
   "metadata": {},
   "outputs": [
    {
     "name": "stdout",
     "output_type": "stream",
     "text": [
      "[[1, 1, 2, 2, 3, 3], [], [5, 7], [11, 11]]\n",
      "[['a', 'b', 'a', 'b', 'a', 'b'], [], ['d', 'd'], ['e', 'f']]\n"
     ]
    }
   ],
   "source": [
    "left, right = ak.unzip(pairs)\n",
    "print(left)\n",
    "print(right)"
   ]
  },
  {
   "cell_type": "markdown",
   "metadata": {},
   "source": [
    "- In addition to `ak.cartesian`, another combinatorial function Awkward provides is `ak.combinations`. This function allows us to find all pairs withing a single collection, without repetition. For instance."
   ]
  },
  {
   "cell_type": "code",
   "execution_count": 7,
   "metadata": {},
   "outputs": [
    {
     "name": "stdout",
     "output_type": "stream",
     "text": [
      "[[1, 2, 3], [], [5, 7], [11]]\n"
     ]
    }
   ],
   "source": [
    "# As a reminder\n",
    "print(numbers)"
   ]
  },
  {
   "cell_type": "code",
   "execution_count": 8,
   "metadata": {},
   "outputs": [
    {
     "data": {
      "text/html": [
       "<pre>[[(1, 2), (1, 3), (2, 3)],\n",
       " [],\n",
       " [(5, 7)],\n",
       " []]\n",
       "--------------------------\n",
       "type: 4 * var * (\n",
       "    int64,\n",
       "    int64\n",
       ")</pre>"
      ],
      "text/plain": [
       "<Array [[(1, 2), (1, ...), (2, 3)], ..., []] type='4 * var * (int64, int64)'>"
      ]
     },
     "execution_count": 8,
     "metadata": {},
     "output_type": "execute_result"
    }
   ],
   "source": [
    "# The number of items to choose in each list: 2 chooses unique pairs, 3 chooses unique triples, etc.\n",
    "comb_size = 2\n",
    "\n",
    "pairs = ak.combinations(numbers, comb_size)\n",
    "pairs"
   ]
  },
  {
   "cell_type": "markdown",
   "metadata": {},
   "source": [
    "- With every possible pair of elements, we can unzip this array similar to how we did the previous one we had."
   ]
  },
  {
   "cell_type": "code",
   "execution_count": 9,
   "metadata": {},
   "outputs": [
    {
     "name": "stdout",
     "output_type": "stream",
     "text": [
      "[[1, 1, 2], [], [5], []]\n",
      "[[2, 3, 3], [], [7], []]\n"
     ]
    }
   ],
   "source": [
    "left, right = ak.unzip(pairs)\n",
    "print(left)\n",
    "print(right)"
   ]
  },
  {
   "cell_type": "markdown",
   "metadata": {},
   "source": [
    "- Notice that they line up. We can therefore perform operations between these two arrays as such."
   ]
  },
  {
   "cell_type": "code",
   "execution_count": 10,
   "metadata": {},
   "outputs": [
    {
     "data": {
      "text/html": [
       "<pre>[[2, 3, 6],\n",
       " [],\n",
       " [35],\n",
       " []]\n",
       "---------------------\n",
       "type: 4 * var * int64</pre>"
      ],
      "text/plain": [
       "<Array [[2, 3, 6], [], [35], []] type='4 * var * int64'>"
      ]
     },
     "execution_count": 10,
     "metadata": {},
     "output_type": "execute_result"
    }
   ],
   "source": [
    "left * right"
   ]
  },
  {
   "cell_type": "markdown",
   "metadata": {},
   "source": [
    "## Dimuons Revisited\n",
    "- In the last notebook, we were working with dimuon data and were able to effetively plot the dimuon mass spectrum. However, in the process, we made a pretty unreasonable cut: we only considered events which had two muons. This means we were not taking into account data which might be relevant for our search!\n",
    "- Now, we are going to perform the same mini-analysis, but we are going to take a more nuanced approach using combinatronics. First we load in the data."
   ]
  },
  {
   "cell_type": "code",
   "execution_count": 76,
   "metadata": {},
   "outputs": [
    {
     "data": {
      "text/plain": [
       "ArrayType(RecordType([ListType(NumpyType('float32')), ListType(NumpyType('float32')), ListType(NumpyType('float32')), ListType(NumpyType('int32'))], ['Muon_pt', 'Muon_eta', 'Muon_phi', 'Muon_charge']), 10000, None)"
      ]
     },
     "execution_count": 76,
     "metadata": {},
     "output_type": "execute_result"
    }
   ],
   "source": [
    "import uproot\n",
    "import awkward as ak\n",
    "import vector\n",
    "\n",
    "file = uproot.open(\n",
    "    # \"root://eospublic.cern.ch//eos/opendata/cms/derived-data/AOD2NanoAODOutreachTool/Run2012BC_DoubleMuParked_Muons.root\"\n",
    "    \"uproot-tutorial-file.root\"\n",
    ")\n",
    "tree = file[\"Events\"]\n",
    "\n",
    "arrays = tree.arrays(filter_name=\"/Muon_(pt|eta|phi|charge)/\", entry_stop=10000)\n",
    "\n",
    "muons = ak.zip(\n",
    "    {\n",
    "        \"pt\": arrays[\"Muon_pt\"],\n",
    "        \"eta\": arrays[\"Muon_eta\"],\n",
    "        \"phi\": arrays[\"Muon_phi\"],\n",
    "        \"charge\": arrays[\"Muon_charge\"],\n",
    "    }\n",
    ")\n",
    "\n",
    "arrays.type"
   ]
  },
  {
   "cell_type": "markdown",
   "metadata": {},
   "source": [
    "- Lets get all possible combinations of 2 muons for each event and then separate each into a separate array that we can add in order to get the mass."
   ]
  },
  {
   "cell_type": "code",
   "execution_count": 78,
   "metadata": {},
   "outputs": [],
   "source": [
    "pairs = ak.combinations(muons, 2)\n",
    "mu1, mu2 = ak.unzip(pairs)"
   ]
  },
  {
   "cell_type": "markdown",
   "metadata": {},
   "source": [
    "- With `ak.unzip` we can get the first and second muon in each pair separately and then use those separate arrays to compute the invariant mass of each pair.\n",
    "$$\n",
    "    m = \\sqrt{\n",
    "        2p_{T1}p_{T2}\\cosh(\\eta_1 - \\eta_2) - \\cos(\\phi_1 - \\phi_2)\n",
    "    }\n",
    "$$"
   ]
  },
  {
   "cell_type": "code",
   "execution_count": 79,
   "metadata": {},
   "outputs": [],
   "source": [
    "import numpy as np\n",
    "\n",
    "mu1, mu2 = ak.unzip(pairs)\n",
    "\n",
    "mass = np.sqrt(\n",
    "    2 * mu1.pt * mu2.pt * (np.cosh(mu1.eta - mu2.eta) - np.cos(mu1.phi - mu2.phi))\n",
    ")"
   ]
  },
  {
   "cell_type": "markdown",
   "metadata": {},
   "source": [
    "- We will now use a histograming tool provided to us by Scikit-HEP: Hist. How is using Hist better than just using vanilla Matplotlib.\n",
    "  1. You can more easily get advanced binning options such as variable and irregular bins, and multiple axis types\n",
    "  2. Built on top of `boost-histogram` library which offers powerful histogram operations with high performance.\n",
    "  3. Offers methods beyond plotting histograms such as histogram manipulations and the calculation of statistical properties directly from the histogram objects.\n",
    "- Lets go ahead and use it!"
   ]
  },
  {
   "cell_type": "code",
   "execution_count": 81,
   "metadata": {},
   "outputs": [
    {
     "data": {
      "text/plain": [
       "[StairsArtists(stairs=<matplotlib.patches.StepPatch object at 0x146152810>, errorbar=<ErrorbarContainer object of 3 artists>, legend_artist=<ErrorbarContainer object of 3 artists>)]"
      ]
     },
     "execution_count": 81,
     "metadata": {},
     "output_type": "execute_result"
    },
    {
     "data": {
      "image/png": "[encoded data removed]",
      "text/plain": [
       "<Figure size 640x480 with 1 Axes>"
      ]
     },
     "metadata": {},
     "output_type": "display_data"
    }
   ],
   "source": [
    "import hist\n",
    "import matplotlib.pyplot as plt\n",
    "\n",
    "h = hist.Hist(hist.axis.Regular(120, 0, 120, name=\"mass\", label=\"mass [GeV]\"))\n",
    "h.fill(ak.ravel(mass))\n",
    "h.plot()"
   ]
  },
  {
   "cell_type": "markdown",
   "metadata": {},
   "source": [
    "- Plotting this in a way that will seem more familiar... "
   ]
  },
  {
   "cell_type": "code",
   "execution_count": 158,
   "metadata": {},
   "outputs": [
    {
     "name": "stderr",
     "output_type": "stream",
     "text": [
      "/var/folders/t8/8pnmh4rj2lbbd7gfq8tf09180000gn/T/ipykernel_41673/3770819677.py:12: UserWarning: Attempt to set non-positive xlim on a log-scaled axis will be ignored.\n",
      "  ax.set_xlim(0, 10e3)\n"
     ]
    },
    {
     "data": {
      "image/png": "[encoded data removed]",
      "text/plain": [
       "<Figure size 640x480 with 1 Axes>"
      ]
     },
     "metadata": {},
     "output_type": "display_data"
    }
   ],
   "source": [
    "hlog = hist.Hist(\n",
    "    hist.axis.Variable(\n",
    "        np.logspace(np.log10(10e-1), np.log10(10e3), 100),\n",
    "        ), \n",
    "    )\n",
    "hlog.fill(ak.ravel(mass))\n",
    "\n",
    "fig, ax = plt.subplots()\n",
    "hlog.plot(ax=ax, yerr=False, lw=1)\n",
    "ax.set_xscale(\"log\")\n",
    "ax.set_yscale(\"log\")\n",
    "ax.set_xlim(0, 10e3)\n",
    "ax.set_xlabel(\"Dimuon invariant mass [GeV]\")\n",
    "plt.show()"
   ]
  },
  {
   "cell_type": "markdown",
   "metadata": {},
   "source": [
    "- We can see that we can already see the Z peak, but $J/\\psi$ peaks, but not much else.\n",
    "- For now, however, lets focus on Z0, which we can see in the plot which is not logarithmic as a peak at ~90 GeV. To improve the plot, we can impose charge conservation as shown here"
   ]
  },
  {
   "cell_type": "code",
   "execution_count": 198,
   "metadata": {},
   "outputs": [
    {
     "data": {
      "image/png": "[encoded data removed]",
      "text/plain": [
       "<Figure size 640x480 with 1 Axes>"
      ]
     },
     "metadata": {},
     "output_type": "display_data"
    }
   ],
   "source": [
    "oppq_mask = mu1[\"charge\"] != mu2[\"charge\"]\n",
    "mass_oppq = mass[oppq_mask]\n",
    "\n",
    "h_oppq = hist.Hist(\n",
    "    hist.axis.Regular(\n",
    "        120, 0, 120\n",
    "        ), \n",
    "    )\n",
    "h_oppq.fill(ak.ravel(mass_oppq))\n",
    "\n",
    "fig, ax = plt.subplots()\n",
    "h_oppq.plot(ax=ax, yerr=False, lw=1)\n",
    "ax.set_xlabel(\"Dimuon invariant mass [GeV]\")\n",
    "plt.show()"
   ]
  },
  {
   "cell_type": "code",
   "execution_count": 199,
   "metadata": {},
   "outputs": [
    {
     "data": {
      "text/plain": [
       "91.1876"
      ]
     },
     "execution_count": 199,
     "metadata": {},
     "output_type": "execute_result"
    }
   ],
   "source": [
    "import particle, hepunits\n",
    "\n",
    "zmass = particle.Particle.findall(\"Z0\")[0].mass / hepunits.GeV\n",
    "zmass"
   ]
  },
  {
   "cell_type": "code",
   "execution_count": 203,
   "metadata": {},
   "outputs": [
    {
     "data": {
      "text/html": [
       "<pre>[[None],\n",
       " [0],\n",
       " [None],\n",
       " [None],\n",
       " [2],\n",
       " [0],\n",
       " [0],\n",
       " [0],\n",
       " [0],\n",
       " [0],\n",
       " ...,\n",
       " [1],\n",
       " [0],\n",
       " [None],\n",
       " [1],\n",
       " [0],\n",
       " [0],\n",
       " [0],\n",
       " [0],\n",
       " [0]]\n",
       "------------------------\n",
       "type: 10000 * 1 * ?int64</pre>"
      ],
      "text/plain": [
       "<Array [[None], [0], [None], ..., [0], [0], [0]] type='10000 * 1 * ?int64'>"
      ]
     },
     "execution_count": 203,
     "metadata": {},
     "output_type": "execute_result"
    }
   ],
   "source": [
    "deltamass = abs(mass_oppq - zmass)\n",
    "which = ak.argmin(deltamass, axis=1, keepdims=True)\n",
    "nass_opq[which]"
   ]
  },
  {
   "cell_type": "code",
   "execution_count": 202,
   "metadata": {},
   "outputs": [
    {
     "data": {
      "image/png": "[encoded data removed]",
      "text/plain": [
       "<Figure size 640x480 with 1 Axes>"
      ]
     },
     "metadata": {},
     "output_type": "display_data"
    }
   ],
   "source": [
    "hlog_nearZ0mass = hist.Hist(\n",
    "    hist.axis.Regular(\n",
    "        120, 0, 120\n",
    "        ), \n",
    "    )\n",
    "hlog_nearZ0mass.fill(ak.ravel(nearZ0mass))\n",
    "\n",
    "fig, ax = plt.subplots()\n",
    "hlog_nearZ0mass.plot(ax=ax, yerr=False, lw=1)\n",
    "# ax.set_xscale(\"log\")\n",
    "# ax.set_yscale(\"log\")\n",
    "ax.set_xlabel(\"Dimuon invariant mass [GeV]\")\n",
    "plt.show()"
   ]
  },
  {
   "cell_type": "code",
   "execution_count": null,
   "metadata": {},
   "outputs": [],
   "source": []
  },
  {
   "cell_type": "code",
   "execution_count": null,
   "metadata": {},
   "outputs": [],
   "source": []
  },
  {
   "cell_type": "markdown",
   "metadata": {},
   "source": []
  },
  {
   "cell_type": "markdown",
   "metadata": {},
   "source": [
    "- On the other hand, suppose we want to only plot in our histogram only the largest mass in each event. In this case we can use `ak.max`. Note, however, that some events will have no muons at all, so, for that event, the maximum element would be... `None`. To get rid of that, we can use the `ak.flatten` function along axis 0 which will automatically remove any such missing values."
   ]
  },
  {
   "cell_type": "code",
   "execution_count": 30,
   "metadata": {},
   "outputs": [],
   "source": [
    "max_mass = ak.flatten(ak.max(mass, axis=1), axis=0)"
   ]
  },
  {
   "cell_type": "code",
   "execution_count": 31,
   "metadata": {},
   "outputs": [
    {
     "data": {
      "text/plain": [
       "[StairsArtists(stairs=<matplotlib.patches.StepPatch object at 0x2825353d0>, errorbar=<ErrorbarContainer object of 3 artists>, legend_artist=<ErrorbarContainer object of 3 artists>)]"
      ]
     },
     "execution_count": 31,
     "metadata": {},
     "output_type": "execute_result"
    },
    {
     "data": {
      "image/png": "[encoded data removed]",
      "text/plain": [
       "<Figure size 640x480 with 1 Axes>"
      ]
     },
     "metadata": {},
     "output_type": "display_data"
    }
   ],
   "source": [
    "import hist\n",
    "import matplotlib.pyplot as plt\n",
    "\n",
    "h = hist.Hist(hist.axis.Regular(120, 0, 120, name=\"mass\", label=\"mass [GeV]\"))\n",
    "h.fill(max_mass)\n",
    "h.plot()"
   ]
  },
  {
   "cell_type": "markdown",
   "metadata": {},
   "source": [
    "- We know that we want events which have muons of opposite charge."
   ]
  },
  {
   "cell_type": "code",
   "execution_count": null,
   "metadata": {},
   "outputs": [
    {
     "data": {
      "text/html": [
       "<pre>({rho: 10.5, phi: -0.275, eta: -0.428, charge: 1},\n",
       " {rho: 16.3, phi: 2.54, eta: 0.349, charge: -1})\n",
       "--------------------------------------------------\n",
       "type: (\n",
       "    Momentum3D[\n",
       "        rho: float32,\n",
       "        phi: float32,\n",
       "        eta: float32,\n",
       "        charge: int32\n",
       "    ],\n",
       "    Momentum3D[\n",
       "        rho: float32,\n",
       "        phi: float32,\n",
       "        eta: float32,\n",
       "        charge: int32\n",
       "    ]\n",
       ")</pre>"
      ],
      "text/plain": [
       "<Record ({rho: 10.5, ...}, {...}) type='(Momentum3D[rho: float32, phi: floa...'>"
      ]
     },
     "execution_count": 73,
     "metadata": {},
     "output_type": "execute_result"
    }
   ],
   "source": [
    "pairs_oppq = pairs[pairs[\"0\"][\"charge\"] + pairs[\"1\"][\"charge\"] == 0]"
   ]
  },
  {
   "cell_type": "markdown",
   "metadata": {},
   "source": [
    "- In order to compute the mass, because we are working with four vectors, we can just add."
   ]
  },
  {
   "cell_type": "code",
   "execution_count": null,
   "metadata": {},
   "outputs": [
    {
     "data": {
      "text/plain": [
       "[StairsArtists(stairs=<matplotlib.patches.StepPatch object at 0x17fdd2c90>, errorbar=<ErrorbarContainer object of 3 artists>, legend_artist=<ErrorbarContainer object of 3 artists>)]"
      ]
     },
     "execution_count": 79,
     "metadata": {},
     "output_type": "execute_result"
    },
    {
     "data": {
      "image/png": "[encoded data removed]",
      "text/plain": [
       "<Figure size 640x480 with 1 Axes>"
      ]
     },
     "metadata": {},
     "output_type": "display_data"
    }
   ],
   "source": [
    "import hist\n",
    "\n",
    "hist.Hist(hist.axis.Regular(120, 0, 120, label=\"mass [GeV]\")).fill(\n",
    "    ak.ravel(pairs_oppq[\"0\"] + pairs_oppq[\"1\"])\n",
    ").plot()\n",
    "    "
   ]
  },
  {
   "cell_type": "code",
   "execution_count": null,
   "metadata": {},
   "outputs": [
    {
     "data": {
      "text/html": [
       "<pre>[[False],\n",
       " [True],\n",
       " [],\n",
       " [False, False, False, False, False, False],\n",
       " [False, True, True, True, True, False],\n",
       " [True, False, True],\n",
       " [True],\n",
       " [True],\n",
       " [True],\n",
       " [True],\n",
       " ...,\n",
       " [True, False, True],\n",
       " [True, False, True],\n",
       " [False, False, False, False, False, False],\n",
       " [True, False, False, True, True, False],\n",
       " [True],\n",
       " [True],\n",
       " [True],\n",
       " [True],\n",
       " [True]]\n",
       "--------------------------------------------\n",
       "type: 10000 * var * bool</pre>"
      ],
      "text/plain": [
       "<Array [[False], [True], [], ..., [True], [True]] type='10000 * var * bool'>"
      ]
     },
     "execution_count": 64,
     "metadata": {},
     "output_type": "execute_result"
    }
   ],
   "source": []
  }
 ],
 "metadata": {
  "kernelspec": {
   "display_name": "uproot",
   "language": "python",
   "name": "python3"
  },
  "language_info": {
   "codemirror_mode": {
    "name": "ipython",
    "version": 3
   },
   "file_extension": ".py",
   "mimetype": "text/x-python",
   "name": "python",
   "nbconvert_exporter": "python",
   "pygments_lexer": "ipython3",
   "version": "3.11.6"
  }
 },
 "nbformat": 4,
 "nbformat_minor": 2
}
